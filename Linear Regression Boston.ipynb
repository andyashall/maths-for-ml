{
 "cells": [
  {
   "cell_type": "code",
   "execution_count": 235,
   "metadata": {},
   "outputs": [],
   "source": [
    "from sklearn.datasets import load_boston\n",
    "import numpy as np\n",
    "\n",
    "x = load_boston().data\n",
    "# row_sums = x.sum(axis=1)\n",
    "# x = x / row_sums[:, np.newaxis]\n",
    "# x = np.c_[np.ones(x.shape[0]), x]\n",
    "y = load_boston().target"
   ]
  },
  {
   "cell_type": "code",
   "execution_count": 236,
   "metadata": {},
   "outputs": [
    {
     "data": {
      "text/plain": [
       "(379, 13)"
      ]
     },
     "execution_count": 236,
     "metadata": {},
     "output_type": "execute_result"
    }
   ],
   "source": [
    "from sklearn.model_selection import train_test_split\n",
    "\n",
    "x_train, x_test, y_train, y_test = train_test_split(x, y, random_state=29)\n",
    "\n",
    "x_train.shape"
   ]
  },
  {
   "cell_type": "code",
   "execution_count": 63,
   "metadata": {},
   "outputs": [
    {
     "data": {
      "text/plain": [
       "array([[ 0.01428571,  0.42857143,  0.02857143,  0.52857143],\n",
       "       [ 0.01282051,  0.48717949,  0.02564103,  0.47435897]])"
      ]
     },
     "execution_count": 63,
     "metadata": {},
     "output_type": "execute_result"
    }
   ],
   "source": [
    "def scal(x):\n",
    "    nx = np.array(x.shape)\n",
    "    for c in range(x.shape[1]):\n",
    "        for r in range(x.shape[0]):\n",
    "            nx[r][c] = 1/x[r][c]\n",
    "    return nx\n",
    "\n",
    "tes = np.array([[1, 30, 2, 37], [1, 38, 2, 37]])\n",
    "\n",
    "row_sums = tes.sum(axis=1)\n",
    "new_matrix = tes / row_sums[:, np.newaxis]\n",
    "\n",
    "new_matrix"
   ]
  },
  {
   "cell_type": "code",
   "execution_count": 64,
   "metadata": {},
   "outputs": [],
   "source": [
    "def polynom(m, deg):\n",
    "    n_rows, n_cols = m.shape[0], m.shape[1]\n",
    "    nm = np.zeros((m.shape[0],n_cols*deg))\n",
    "    for d in range(deg):\n",
    "        for c in range(n_cols):\n",
    "            for r in range(n_rows):\n",
    "                nm[r][n_cols*d+c] = m[r][c]**(d+1)\n",
    "    return nm"
   ]
  },
  {
   "cell_type": "code",
   "execution_count": 164,
   "metadata": {},
   "outputs": [
    {
     "name": "stdout",
     "output_type": "stream",
     "text": [
      "[  3.59818983e+01  -9.35811334e-02   5.31800698e-02   3.67125390e-02\n",
      "   3.43338847e+00  -1.48087291e+01   3.54024870e+00  -2.54930954e-03\n",
      "  -1.36624878e+00   3.22244933e-01  -1.29376404e-02  -9.65171087e-01\n",
      "   1.10630023e-02  -5.51213763e-01]\n"
     ]
    }
   ],
   "source": [
    "def normalEq(X, y):\n",
    "    return np.linalg.inv(X.T @ X) @ X.T @ y\n",
    "\n",
    "theta = normalEq(x_train, y_train)\n",
    "\n",
    "print(theta)\n",
    "\n",
    "preds = x_test @ theta"
   ]
  },
  {
   "cell_type": "markdown",
   "metadata": {},
   "source": [
    "$X^{'}X=\\begin{bmatrix} 7 & 38.5\\\\  38.5& 218.75 \\end{bmatrix}$"
   ]
  },
  {
   "cell_type": "code",
   "execution_count": 334,
   "metadata": {},
   "outputs": [],
   "source": [
    "def scaling(X):\n",
    "    l = []\n",
    "    for k in range(X.shape[1]):\n",
    "        x = X[:,k]\n",
    "        def f(e):\n",
    "            tmp0 = sum(x) / len(x)\n",
    "            tmp1 = max(x) - min(x)\n",
    "            return (e - tmp0) / tmp1\n",
    "        m =  list(map(float, (list(map(f, x)))))\n",
    "        l.append(m)\n",
    "    return np.matrix(l).transpose()"
   ]
  },
  {
   "cell_type": "code",
   "execution_count": 365,
   "metadata": {},
   "outputs": [
    {
     "name": "stdout",
     "output_type": "stream",
     "text": [
      "[[ 22.61794195  -6.07310945   5.03553834   0.90306225   3.47591965\n",
      "   -6.84029781  18.71986079  -0.20777535 -14.36640632   7.02436048\n",
      "   -6.43047542  -9.04129812   4.46247975 -20.05625331]]\n"
     ]
    }
   ],
   "source": [
    "def BGD(X, y, n_iter, eta):\n",
    "    X = np.c_[np.ones(len(X)), scaling(X)]\n",
    "    y = np.array([y.T])\n",
    "    theta = np.random.rand(1, X.shape[1])\n",
    "    for i in range(n_iter):\n",
    "        for c in range(X.shape[1]):\n",
    "            nX = X[:,c]\n",
    "            nT = theta[:,c]\n",
    "            gradients = ((X @ theta.T) - y.T).T @ nX\n",
    "            theta[:,c] = nT - eta * gradients\n",
    "    return theta\n",
    "\n",
    "theta = BGD(x_train, y_train, 1000, 0.001)\n",
    "\n",
    "print(theta)"
   ]
  },
  {
   "cell_type": "code",
   "execution_count": 338,
   "metadata": {},
   "outputs": [
    {
     "name": "stdout",
     "output_type": "stream",
     "text": [
      "458\n"
     ]
    }
   ],
   "source": [
    "def MGD(A, y, eta, d):\n",
    "    X = np.c_[np.ones(len(A)), A]\n",
    "    theta = np.random.rand(1, X.shape[1])\n",
    "    m = len(X)\n",
    "    delta = cost(X, y, theta)\n",
    "    steps = 0\n",
    "    while delta > d:\n",
    "        beg = cost(X, y, theta)\n",
    "        for j in range(X.shape[1]):\n",
    "            hyp = X * theta.T\n",
    "            diff = hyp - y.T\n",
    "            grad = diff.T * X[:,j]\n",
    "            theta[:,j] = theta[:,j] - eta * grad\n",
    "        end = cost(X, y, theta)\n",
    "        delta = abs(end - beg)\n",
    "        steps+=1\n",
    "    return (theta, steps)\n",
    "\n",
    "def cost(A, y, theta):\n",
    "    return (1 / len(A)) * float(sum([x * x for x in A * theta.T - y.T]))\n",
    "\n",
    "yt = np.array([y_train.T])\n",
    "xt = scaling(x_train)\n",
    "\n",
    "theta, steps = MGD(xt, yt, 0.001, 0.001)\n",
    "\n",
    "print(steps)"
   ]
  },
  {
   "cell_type": "code",
   "execution_count": 364,
   "metadata": {},
   "outputs": [
    {
     "data": {
      "text/plain": [
       "matrix([[ 24.75860413],\n",
       "        [ 41.17441642],\n",
       "        [ 21.96206613],\n",
       "        [ 18.22891706],\n",
       "        [ 19.2846029 ],\n",
       "        [ 21.13581809],\n",
       "        [ 28.99238677],\n",
       "        [ 32.24850421],\n",
       "        [ 18.72923586],\n",
       "        [  5.8704402 ],\n",
       "        [ 43.58553593],\n",
       "        [ 27.77315605],\n",
       "        [ 39.79743262],\n",
       "        [ 13.84003052],\n",
       "        [ 24.59813441],\n",
       "        [ 28.06063352],\n",
       "        [ 23.89939168],\n",
       "        [ 26.07686   ],\n",
       "        [ 18.95368504],\n",
       "        [ 20.47138736],\n",
       "        [ 38.21837985],\n",
       "        [ 21.40201592],\n",
       "        [ 19.39813819],\n",
       "        [ 20.93232187],\n",
       "        [ 33.66238569],\n",
       "        [ 21.00836676],\n",
       "        [ 35.5890669 ],\n",
       "        [ 25.16978444],\n",
       "        [ 29.37834793],\n",
       "        [ 34.2610355 ],\n",
       "        [ 33.90742953],\n",
       "        [ 26.06593767],\n",
       "        [ 15.00777669],\n",
       "        [ 26.13141523],\n",
       "        [ 15.04889331],\n",
       "        [  6.70155733],\n",
       "        [ 23.36395576],\n",
       "        [  7.68300306],\n",
       "        [ 18.46427949],\n",
       "        [ 20.60326865],\n",
       "        [ 28.36196203],\n",
       "        [ 24.13706631],\n",
       "        [ 31.26756284],\n",
       "        [ 13.16890648],\n",
       "        [  2.23153583],\n",
       "        [ 16.45357863],\n",
       "        [ 15.16633425],\n",
       "        [ 41.88077648],\n",
       "        [ 18.00965279],\n",
       "        [ 19.78588116],\n",
       "        [ 27.40837081],\n",
       "        [ 17.1379524 ],\n",
       "        [ 23.95061211],\n",
       "        [ 16.96648744],\n",
       "        [ 20.13915043],\n",
       "        [ 12.12400617],\n",
       "        [ 27.93967206],\n",
       "        [ 22.65351648],\n",
       "        [ 19.69602583],\n",
       "        [ 20.68116917],\n",
       "        [ 29.87988407],\n",
       "        [ 12.65876062],\n",
       "        [ 26.87661868],\n",
       "        [ 22.36570916],\n",
       "        [ 20.67889915],\n",
       "        [ 16.83228871],\n",
       "        [ 28.43239611],\n",
       "        [ 36.18460922],\n",
       "        [  6.36077473],\n",
       "        [ 22.44712797],\n",
       "        [ 13.43513302],\n",
       "        [ 38.97662833],\n",
       "        [ 15.27998278],\n",
       "        [ 19.93593912],\n",
       "        [ 16.51472551],\n",
       "        [ 16.63851405],\n",
       "        [ 16.54011476],\n",
       "        [ 27.08238834],\n",
       "        [ 33.49471994],\n",
       "        [ 13.47971783],\n",
       "        [ 38.89181574],\n",
       "        [ 22.04795696],\n",
       "        [ 28.18297686],\n",
       "        [ 11.12631869],\n",
       "        [ 19.32308221],\n",
       "        [ 16.53671058],\n",
       "        [ 31.74627976],\n",
       "        [ 32.27723701],\n",
       "        [ 17.82364239],\n",
       "        [ 22.09262506],\n",
       "        [ 24.36341968],\n",
       "        [ 23.1858475 ],\n",
       "        [ 23.31425081],\n",
       "        [ 23.97231722],\n",
       "        [ 16.77570026],\n",
       "        [ 12.2836799 ],\n",
       "        [ 18.6306171 ],\n",
       "        [ 30.95371589],\n",
       "        [ 23.72613275],\n",
       "        [ 23.42066102],\n",
       "        [  8.5234625 ],\n",
       "        [ 17.48782357],\n",
       "        [ 31.22598986],\n",
       "        [ 21.3494821 ],\n",
       "        [ 18.67893977],\n",
       "        [ 18.95737829],\n",
       "        [ 14.00122135],\n",
       "        [ 23.07691006],\n",
       "        [ 11.45363638],\n",
       "        [ 19.26958071],\n",
       "        [ 16.36772687],\n",
       "        [ 31.94185518],\n",
       "        [ 26.12379073],\n",
       "        [ 18.65016917],\n",
       "        [ 35.70294762],\n",
       "        [ 14.52051424],\n",
       "        [ 21.88551829],\n",
       "        [ 29.48692939],\n",
       "        [ 16.9251569 ],\n",
       "        [ 36.68435196],\n",
       "        [ 24.90380024],\n",
       "        [ 24.71268552],\n",
       "        [ 23.81638508],\n",
       "        [ 25.38578987],\n",
       "        [ 18.13485976],\n",
       "        [ 25.58375309],\n",
       "        [ 12.25923164]])"
      ]
     },
     "execution_count": 364,
     "metadata": {},
     "output_type": "execute_result"
    }
   ],
   "source": [
    "preds = np.c_[np.ones(len(x_test)), scaling(x_test)] @ theta.T\n",
    "\n",
    "preds"
   ]
  },
  {
   "cell_type": "code",
   "execution_count": 163,
   "metadata": {},
   "outputs": [
    {
     "name": "stderr",
     "output_type": "stream",
     "text": [
      "/Users/kkgh070/anaconda3/envs/porto/lib/python3.6/site-packages/ipykernel_launcher.py:11: RuntimeWarning: invalid value encountered in subtract\n",
      "  # This is added back by InteractiveShellApp.init_path()\n"
     ]
    },
    {
     "name": "stdout",
     "output_type": "stream",
     "text": [
      "[[ nan]]\n",
      "[[ nan]]\n",
      "[[ 23.85098248]\n",
      " [         nan]\n",
      " [         nan]\n",
      " [         nan]\n",
      " [ 29.86148861]\n",
      " [ 36.5634841 ]\n",
      " [         nan]\n",
      " [         nan]\n",
      " [  8.52494419]\n",
      " [         nan]\n",
      " [         nan]\n",
      " [         nan]\n",
      " [         nan]\n",
      " [         nan]]\n"
     ]
    }
   ],
   "source": [
    "def SGD(X, y, eta, n_epoch):\n",
    "    theta = np.random.rand(X.shape[1], 1)\n",
    "    m = X.shape[0]\n",
    "    for epoch in range(n_epoch):\n",
    "        for c in range(X.shape[1]):\n",
    "            for i in range(m):\n",
    "                ri = np.random.randint(m)\n",
    "                guess = X[ri:ri+1, c:c+1] @ theta[c:c+1]\n",
    "                diff = guess - y[ri:ri+1]\n",
    "                grad = X[ri:ri+1, c:c+1].T @ diff\n",
    "                theta[c:c+1] = theta[c:c+1] - grad * eta\n",
    "    print(diff)\n",
    "    print(grad)\n",
    "    print(theta)\n",
    "\n",
    "SGD(x_train, y_train, 0.1, 50)"
   ]
  },
  {
   "cell_type": "code",
   "execution_count": 67,
   "metadata": {},
   "outputs": [],
   "source": [
    "from sklearn.linear_model import LinearRegression\n",
    "from sklearn.pipeline import Pipeline\n",
    "from sklearn.preprocessing import PolynomialFeatures, StandardScaler\n",
    "\n",
    "polybig_features = PolynomialFeatures(degree=2, include_bias=False)\n",
    "std_scaler = StandardScaler()\n",
    "lin_reg = LinearRegression()\n",
    "polynomial_regression = Pipeline([\n",
    "        (\"poly_features\", polybig_features),\n",
    "        (\"std_scaler\", std_scaler),\n",
    "        (\"lin_reg\", lin_reg),\n",
    "    ])\n",
    "polynomial_regression.fit(x_train, y_train)\n",
    "preds = polynomial_regression.predict(x_test)"
   ]
  },
  {
   "cell_type": "code",
   "execution_count": 68,
   "metadata": {},
   "outputs": [
    {
     "name": "stdout",
     "output_type": "stream",
     "text": [
      "weights: \n",
      "[ -4.82353170e-01  -6.11811058e-02  -1.03006200e-01   1.52751036e+00\n",
      "  -2.66093614e+01  -1.72065010e+01  -5.67860772e-02  -2.20943742e+00\n",
      "   5.80765699e-01  -2.01868784e-02  -6.10801742e+00   2.14283984e-02\n",
      "  -1.54975811e+00   4.96884001e-03   8.07538384e-04   6.18487450e-03\n",
      "   1.52751037e+00   3.81582232e+00   1.54888132e+00   5.40426439e-04\n",
      "   1.03788287e-01  -4.23190591e-03   6.78223968e-06   1.49536968e-01\n",
      "  -3.09227294e-05   2.80283423e-02]\n",
      "Intercept: \n",
      "164.391664059\n"
     ]
    }
   ],
   "source": [
    "m = LinearRegression()\n",
    "\n",
    "m.fit(polynom(x_train, 2), y_train)\n",
    "\n",
    "preds = m.predict(polynom(x_test, 2))\n",
    "\n",
    "print('weights: ')\n",
    "print(m.coef_)\n",
    "print('Intercept: ')\n",
    "print(m.intercept_)"
   ]
  },
  {
   "cell_type": "code",
   "execution_count": 356,
   "metadata": {},
   "outputs": [
    {
     "data": {
      "text/plain": [
       "0.76066541110391184"
      ]
     },
     "execution_count": 356,
     "metadata": {},
     "output_type": "execute_result"
    }
   ],
   "source": [
    "from sklearn.metrics import explained_variance_score\n",
    "\n",
    "explained_variance_score(y_test, preds)"
   ]
  },
  {
   "cell_type": "code",
   "execution_count": null,
   "metadata": {},
   "outputs": [],
   "source": []
  }
 ],
 "metadata": {
  "kernelspec": {
   "display_name": "Python 3",
   "language": "python",
   "name": "python3"
  },
  "language_info": {
   "codemirror_mode": {
    "name": "ipython",
    "version": 3
   },
   "file_extension": ".py",
   "mimetype": "text/x-python",
   "name": "python",
   "nbconvert_exporter": "python",
   "pygments_lexer": "ipython3",
   "version": "3.6.3"
  }
 },
 "nbformat": 4,
 "nbformat_minor": 2
}
