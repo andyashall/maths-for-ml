{
 "cells": [
  {
   "cell_type": "code",
   "execution_count": 133,
   "metadata": {},
   "outputs": [],
   "source": [
    "from sklearn.datasets import load_boston\n",
    "import numpy as np\n",
    "\n",
    "x = load_boston().data\n",
    "x = np.c_[x, np.ones(x.shape[0])]\n",
    "y = load_boston().target"
   ]
  },
  {
   "cell_type": "code",
   "execution_count": 142,
   "metadata": {},
   "outputs": [
    {
     "data": {
      "text/plain": [
       "(379, 14)"
      ]
     },
     "execution_count": 142,
     "metadata": {},
     "output_type": "execute_result"
    }
   ],
   "source": [
    "from sklearn.model_selection import train_test_split\n",
    "\n",
    "x_train, x_test, y_train, y_test = train_test_split(x, y, random_state=29)\n",
    "\n",
    "x_train.shape"
   ]
  },
  {
   "cell_type": "code",
   "execution_count": 145,
   "metadata": {},
   "outputs": [],
   "source": [
    "def polynom(m, deg):\n",
    "    n_rows, n_cols = m.shape[0], m.shape[1]\n",
    "    nm = np.zeros((m.shape[0],n_cols*deg))\n",
    "    for d in range(deg):\n",
    "        for c in range(n_cols):\n",
    "            for r in range(n_rows):\n",
    "                nm[r][n_cols*d+c] = m[r][c]**(d+1)\n",
    "    return nm"
   ]
  },
  {
   "cell_type": "code",
   "execution_count": 151,
   "metadata": {},
   "outputs": [
    {
     "name": "stdout",
     "output_type": "stream",
     "text": [
      "[ -9.35811334e-02   5.31800698e-02   3.67125390e-02   3.43338847e+00\n",
      "  -1.48087291e+01   3.54024870e+00  -2.54930954e-03  -1.36624878e+00\n",
      "   3.22244933e-01  -1.29376404e-02  -9.65171087e-01   1.10630023e-02\n",
      "  -5.51213763e-01   3.59818983e+01]\n"
     ]
    }
   ],
   "source": [
    "def normalEq(X, y):\n",
    "    return np.linalg.inv(X.T @ X) @ X.T @ y\n",
    "\n",
    "theta = normalEq(x_train, y_train)\n",
    "\n",
    "print(theta)\n",
    "\n",
    "preds = x_test @ theta"
   ]
  },
  {
   "cell_type": "code",
   "execution_count": 147,
   "metadata": {},
   "outputs": [
    {
     "name": "stderr",
     "output_type": "stream",
     "text": [
      "/Users/kkgh070/anaconda3/envs/porto/lib/python3.6/site-packages/ipykernel_launcher.py:6: RuntimeWarning: invalid value encountered in subtract\n",
      "  \n"
     ]
    },
    {
     "name": "stdout",
     "output_type": "stream",
     "text": [
      "[[ nan]\n",
      " [ nan]\n",
      " [ nan]\n",
      " [ nan]\n",
      " [ nan]\n",
      " [ nan]\n",
      " [ nan]\n",
      " [ nan]\n",
      " [ nan]\n",
      " [ nan]\n",
      " [ nan]\n",
      " [ nan]\n",
      " [ nan]\n",
      " [ nan]]\n"
     ]
    }
   ],
   "source": [
    "def BGD(X, y, n_epoch, eta):\n",
    "    theta = np.random.rand(X.shape[1], 1)\n",
    "    m = len(X)\n",
    "    for i in range(n_epoch):\n",
    "        gradients = 2/m * X.T @ ((X @ theta) - y)\n",
    "        theta = theta - eta * gradients\n",
    "    return np.mean(theta, axis=1).reshape(X.shape[1], 1)\n",
    "\n",
    "theta_BGD = BGD(x_train, y_train, 5000, 0.01)\n",
    "\n",
    "print(theta_BGD)"
   ]
  },
  {
   "cell_type": "code",
   "execution_count": 148,
   "metadata": {},
   "outputs": [],
   "source": [
    "from sklearn.linear_model import LinearRegression\n",
    "from sklearn.pipeline import Pipeline\n",
    "from sklearn.preprocessing import PolynomialFeatures, StandardScaler\n",
    "\n",
    "polybig_features = PolynomialFeatures(degree=2, include_bias=False)\n",
    "std_scaler = StandardScaler()\n",
    "lin_reg = LinearRegression()\n",
    "polynomial_regression = Pipeline([\n",
    "        (\"poly_features\", polybig_features),\n",
    "        (\"std_scaler\", std_scaler),\n",
    "        (\"lin_reg\", lin_reg),\n",
    "    ])\n",
    "polynomial_regression.fit(x_train, y_train)\n",
    "preds = polynomial_regression.predict(x_test)"
   ]
  },
  {
   "cell_type": "code",
   "execution_count": 149,
   "metadata": {},
   "outputs": [
    {
     "data": {
      "text/plain": [
       "array([ 22.20533569,  47.47341524,  24.70504269,  18.54592196,\n",
       "        18.0983566 ,  17.86806448,  25.67023631,  30.8747193 ,\n",
       "        15.95989866,  12.51335041,  44.47247981,  26.1824013 ,\n",
       "        42.1290115 ,  12.89214364,  22.05008739,  27.64217668,\n",
       "        25.58014948,  26.00179846,  19.14874769,  19.59634719,\n",
       "        35.94385957,  17.88422763,  18.35132914,  18.10024263,\n",
       "        31.41157596,  21.56238544,  35.83325179,  26.95474024,\n",
       "        30.60848397,  33.45590308,  31.48522827,  24.79081938,\n",
       "        11.95868313,  25.1152909 ,  13.79866487,   6.7920606 ,\n",
       "        23.21088855,  11.30621046,  20.5316146 ,  19.07033003,\n",
       "        30.6268128 ,  22.25155936,  28.28626292,  14.13491899,\n",
       "        14.56772997,  16.99063137,  16.95885733,  42.64131158,\n",
       "        15.33040705,  18.6367143 ,  27.11373761,  15.79761522,\n",
       "        22.94361599,  17.33629323,  19.31028873,  14.12166167,\n",
       "        27.91115594,  22.17521405,  21.73438445,  19.68456675,\n",
       "        27.02514911,  10.48873662,  25.38784203,  21.42855908,\n",
       "        17.52528159,  14.6821041 ,  26.54555069,  38.43330819,\n",
       "        10.62480395,  20.23051362,  13.94854701,  43.14305624,\n",
       "        15.74690869,  17.49086144,  15.52337806,  15.68848274,\n",
       "        16.56592372,  27.16871047,  30.33433513,  14.24840585,\n",
       "        37.375146  ,  20.86708324,  26.71756903,  12.50255428,\n",
       "        16.73037174,  14.06795306,  30.59327721,  33.76576745,\n",
       "        15.75044476,  23.0574528 ,  25.27564094,  20.5210723 ,\n",
       "        22.88633903,  20.36241838,  15.741662  ,  11.82717369,\n",
       "        17.62532814,  29.79878951,  21.22160343,  21.03163102,\n",
       "        14.8946462 ,  17.66153603,  31.38155017,  20.62642235,\n",
       "        16.83674808,  18.42671681,  14.3714183 ,  22.2411159 ,\n",
       "        22.2420105 ,  18.08669553,  15.72783424,  32.35353032,\n",
       "        25.98907107,  19.76336697,  32.70714677,  15.21012253,\n",
       "        25.10721812,  29.95998043,  15.25942112,  39.56094415,\n",
       "        24.24213084,  22.27669168,  23.32426559,  27.51648204,\n",
       "        14.92545865,  23.79176095,   8.89444235])"
      ]
     },
     "execution_count": 149,
     "metadata": {},
     "output_type": "execute_result"
    }
   ],
   "source": [
    "m = LinearRegression()\n",
    "\n",
    "m.fit(polynom(x_train, 2), y_train)\n",
    "\n",
    "preds = m.predict(polynom(x_test, 2))\n",
    "\n",
    "preds"
   ]
  },
  {
   "cell_type": "code",
   "execution_count": 150,
   "metadata": {},
   "outputs": [
    {
     "data": {
      "text/plain": [
       "0.81538313065314316"
      ]
     },
     "execution_count": 150,
     "metadata": {},
     "output_type": "execute_result"
    }
   ],
   "source": [
    "from sklearn.metrics import explained_variance_score\n",
    "\n",
    "explained_variance_score(y_test, preds)"
   ]
  },
  {
   "cell_type": "code",
   "execution_count": null,
   "metadata": {},
   "outputs": [],
   "source": []
  }
 ],
 "metadata": {
  "kernelspec": {
   "display_name": "Python 3",
   "language": "python",
   "name": "python3"
  },
  "language_info": {
   "codemirror_mode": {
    "name": "ipython",
    "version": 3
   },
   "file_extension": ".py",
   "mimetype": "text/x-python",
   "name": "python",
   "nbconvert_exporter": "python",
   "pygments_lexer": "ipython3",
   "version": "3.6.3"
  }
 },
 "nbformat": 4,
 "nbformat_minor": 2
}
