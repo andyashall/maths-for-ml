{
 "cells": [
  {
   "cell_type": "code",
   "execution_count": 395,
   "metadata": {},
   "outputs": [],
   "source": [
    "from sklearn.datasets import load_boston\n",
    "from sklearn.metrics import explained_variance_score\n",
    "import numpy as np\n",
    "\n",
    "x = load_boston().data\n",
    "y = load_boston().target"
   ]
  },
  {
   "cell_type": "code",
   "execution_count": 396,
   "metadata": {},
   "outputs": [
    {
     "data": {
      "text/plain": [
       "(379, 13)"
      ]
     },
     "execution_count": 396,
     "metadata": {},
     "output_type": "execute_result"
    }
   ],
   "source": [
    "from sklearn.model_selection import train_test_split\n",
    "\n",
    "x_train, x_test, y_train, y_test = train_test_split(x, y, random_state=29)\n",
    "\n",
    "x_train.shape"
   ]
  },
  {
   "cell_type": "code",
   "execution_count": 399,
   "metadata": {},
   "outputs": [],
   "source": [
    "def polynom(m, deg):\n",
    "    n_rows, n_cols = m.shape[0], m.shape[1]\n",
    "    nm = np.zeros((m.shape[0],n_cols*deg))\n",
    "    for d in range(deg):\n",
    "        for c in range(n_cols):\n",
    "            for r in range(n_rows):\n",
    "                nm[r][n_cols*d+c] = m[r][c]**(d+1)\n",
    "    return nm"
   ]
  },
  {
   "cell_type": "code",
   "execution_count": 520,
   "metadata": {},
   "outputs": [],
   "source": [
    "def scaling(X):\n",
    "    for c in range(X.shape[1]):\n",
    "        X[:,c] = [(i - np.mean(X[:,c])) / (max(X[:,c]) - min(X[:,c])) for i in X[:,c]]\n",
    "    return X"
   ]
  },
  {
   "cell_type": "code",
   "execution_count": 415,
   "metadata": {},
   "outputs": [],
   "source": [
    "def predict(X, theta):\n",
    "    return np.c_[np.ones(len(X)), scaling(X)] @ theta"
   ]
  },
  {
   "cell_type": "code",
   "execution_count": 522,
   "metadata": {},
   "outputs": [
    {
     "name": "stdout",
     "output_type": "stream",
     "text": [
      "[ 22.61794195  -6.88081299   5.31800698   1.00151806   3.43338847\n",
      "  -7.19704237  18.47655796  -0.2396351  -15.02450125   7.41163346\n",
      "  -6.77932357  -9.07260822   4.38736543 -19.97598678]\n",
      "\n",
      "Norm Eq EVS: 0.7416264097926808\n"
     ]
    }
   ],
   "source": [
    "def normalEq(X, y):\n",
    "    X = np.c_[np.ones(len(X)), scaling(X)]\n",
    "    return (np.linalg.inv(X.T @ X) @ X.T @ y).T\n",
    "\n",
    "theta = normalEq(x_train, y_train)\n",
    "\n",
    "print(theta)\n",
    "\n",
    "preds = predict(x_test, theta)\n",
    "\n",
    "print(f'\\nNorm Eq EVS: {explained_variance_score(preds, y_test)}')"
   ]
  },
  {
   "cell_type": "markdown",
   "metadata": {},
   "source": [
    "$X^{'}X=\\begin{bmatrix} 7 & 38.5\\\\  38.5& 218.75 \\end{bmatrix}$"
   ]
  },
  {
   "cell_type": "code",
   "execution_count": 450,
   "metadata": {},
   "outputs": [
    {
     "name": "stdout",
     "output_type": "stream",
     "text": [
      "[[ 22.61794195]\n",
      " [ -5.75758067]\n",
      " [ -0.43118008]\n",
      " [ -3.39291134]\n",
      " [  1.81036381]\n",
      " [ -2.65118129]\n",
      " [  4.83968379]\n",
      " [ -5.05118642]\n",
      " [-11.66790218]\n",
      " [  5.56415289]\n",
      " [ -6.03086869]\n",
      " [ -5.95527633]\n",
      " [  5.60237287]\n",
      " [-27.13661868]\n",
      " [ -2.11845673]\n",
      " [  4.92986586]\n",
      " [  4.97484442]\n",
      " [  1.70369378]\n",
      " [ -4.59880081]\n",
      " [ 15.5191705 ]\n",
      " [  4.55472592]\n",
      " [ -0.40678727]\n",
      " [  1.56271903]\n",
      " [ -0.98845325]\n",
      " [ -2.80162931]\n",
      " [ -1.17034739]\n",
      " [ 10.84857532]]\n",
      "\n",
      "BGD EVS: 0.7738285882557906\n"
     ]
    }
   ],
   "source": [
    "def BGD(X, y, n_iter, eta):\n",
    "    X = np.c_[np.ones(len(X)), scaling(X)]\n",
    "    y = np.array([y.T])\n",
    "    theta = np.random.rand(1, X.shape[1])\n",
    "    for i in range(n_iter):\n",
    "        for c in range(X.shape[1]):\n",
    "            nX = X[:,c]\n",
    "            nT = theta[:,c]\n",
    "            gradients = ((X @ theta.T) - y.T).T @ nX\n",
    "            theta[:,c] = nT - eta * gradients\n",
    "    return theta.T\n",
    "\n",
    "theta = BGD(polynom(x_train, 2), y_train, 1000, 0.001)\n",
    "\n",
    "print(theta)\n",
    "\n",
    "preds = predict(polynom(x_test, 2), theta)\n",
    "\n",
    "print(f'\\nBGD EVS: {explained_variance_score(preds, y_test)}')"
   ]
  },
  {
   "cell_type": "code",
   "execution_count": 449,
   "metadata": {},
   "outputs": [
    {
     "name": "stdout",
     "output_type": "stream",
     "text": [
      "[[ 22.05000418]\n",
      " [ -4.0973114 ]\n",
      " [  0.07988003]\n",
      " [ -1.52733234]\n",
      " [  1.34766906]\n",
      " [ -4.52854114]\n",
      " [  7.1313255 ]\n",
      " [ -4.63958019]\n",
      " [ -8.10832683]\n",
      " [  1.52855544]\n",
      " [ -4.27495986]\n",
      " [ -6.51251444]\n",
      " [  2.77270949]\n",
      " [-19.65316074]\n",
      " [ -2.19747073]\n",
      " [  4.59488615]\n",
      " [  3.40810127]\n",
      " [  2.23792493]\n",
      " [ -2.23752565]\n",
      " [ 14.16033791]\n",
      " [  3.63684438]\n",
      " [ -3.95404031]\n",
      " [  3.50733473]\n",
      " [ -1.0890194 ]\n",
      " [ -2.56232618]\n",
      " [  1.07388276]\n",
      " [  2.45030504]]\n",
      "\n",
      "SGD EVS: 0.7563749488752401\n"
     ]
    }
   ],
   "source": [
    "def learning_schedule(t):\n",
    "    return 5 / (t + 50)\n",
    "\n",
    "def SGD(X, y, n_epoch, eta):\n",
    "    X = np.c_[np.ones(len(X)), scaling(X)]\n",
    "    y = np.array([y.T])\n",
    "    theta = np.random.rand(1, X.shape[1])\n",
    "    m = X.shape[0]\n",
    "    for epoch in range(1, n_epoch):\n",
    "        for n in range(m):\n",
    "            for c in range(X.shape[1]):\n",
    "                r = np.random.randint(0, m-1)\n",
    "                xi, yi = X[r:r+1], y.T[r:r+1]\n",
    "                gradients = ((xi @ theta.T) - yi.T).T @ xi[:,c]\n",
    "#                 eta = eta/epoch\n",
    "                theta[:,c] = theta[:,c] - (gradients * eta)\n",
    "    return theta.T\n",
    "\n",
    "theta = SGD(polynom(x_train, 2), y_train, 50, 0.01)\n",
    "\n",
    "print(theta)\n",
    "\n",
    "preds = predict(polynom(x_test, 2), theta)\n",
    "\n",
    "print(f'\\nSGD EVS: {explained_variance_score(preds, y_test)}')"
   ]
  },
  {
   "cell_type": "code",
   "execution_count": 448,
   "metadata": {},
   "outputs": [
    {
     "name": "stdout",
     "output_type": "stream",
     "text": [
      "[[ 22.82408452]\n",
      " [ -6.21896215]\n",
      " [ -0.79063871]\n",
      " [ -3.14689727]\n",
      " [  1.58526413]\n",
      " [ -2.54600289]\n",
      " [  4.9726204 ]\n",
      " [ -4.6874097 ]\n",
      " [-11.82461518]\n",
      " [  6.03388815]\n",
      " [ -5.66038599]\n",
      " [ -5.98729169]\n",
      " [  5.67994645]\n",
      " [-26.88310055]\n",
      " [ -1.86282954]\n",
      " [  5.22344137]\n",
      " [  4.80385485]\n",
      " [  1.91052752]\n",
      " [ -4.95915987]\n",
      " [ 15.65314259]\n",
      " [  4.40842578]\n",
      " [ -0.53721881]\n",
      " [  1.44235291]\n",
      " [ -1.2888374 ]\n",
      " [ -2.77773447]\n",
      " [ -1.1614262 ]\n",
      " [ 10.57271582]]\n",
      "\n",
      " MBGD EVS: 0.7706085328989566\n"
     ]
    }
   ],
   "source": [
    "def MBGD(X, y, n_epoch, batch_size, eta):\n",
    "    X = np.c_[np.ones(len(X)), scaling(X)]\n",
    "    y = np.array([y.T])\n",
    "    theta = np.random.rand(1, X.shape[1])\n",
    "    m = X.shape[0]\n",
    "    for epoch in range(n_epoch):\n",
    "        shuffi = np.random.permutation(m)\n",
    "        xs, ys = X[shuffi], y.T[shuffi]\n",
    "        for i in range(0, m, batch_size):\n",
    "            for c in range(X.shape[1]):\n",
    "                r = np.random.randint(0, m-1)\n",
    "                xi, yi = X[i:i+batch_size], y.T[i:i+batch_size]\n",
    "                gradients = ((xi @ theta.T) - yi).T @ xi[:,c]\n",
    "                theta[:,c] = theta[:,c] - (gradients * eta)\n",
    "    return theta.T\n",
    "        \n",
    "theta = MBGD(polynom(x_train, 2), y_train, 100, 20, 0.01)\n",
    "\n",
    "print(theta)\n",
    "\n",
    "preds = predict(polynom(x_test, 2), theta)\n",
    "\n",
    "print(f'\\n MBGD EVS: {explained_variance_score(preds, y_test)}')"
   ]
  },
  {
   "cell_type": "code",
   "execution_count": 454,
   "metadata": {},
   "outputs": [],
   "source": [
    "from sklearn.linear_model import LinearRegression\n",
    "from sklearn.pipeline import Pipeline\n",
    "from sklearn.preprocessing import PolynomialFeatures, StandardScaler\n",
    "\n",
    "polybig_features = PolynomialFeatures(degree=2, include_bias=False)\n",
    "std_scaler = StandardScaler()\n",
    "lin_reg = LinearRegression()\n",
    "polynomial_regression = Pipeline([\n",
    "        (\"poly_features\", polybig_features),\n",
    "        (\"std_scaler\", std_scaler),\n",
    "        (\"lin_reg\", lin_reg),\n",
    "    ])\n",
    "polynomial_regression.fit(x_train, y_train)\n",
    "preds = polynomial_regression.predict(x_test)"
   ]
  },
  {
   "cell_type": "code",
   "execution_count": 455,
   "metadata": {},
   "outputs": [
    {
     "name": "stdout",
     "output_type": "stream",
     "text": [
      "weights: \n",
      "[ -4.82353170e-01  -6.11811058e-02  -1.03006200e-01   1.52751036e+00\n",
      "  -2.66093614e+01  -1.72065010e+01  -5.67860772e-02  -2.20943742e+00\n",
      "   5.80765699e-01  -2.01868784e-02  -6.10801742e+00   2.14283984e-02\n",
      "  -1.54975811e+00   4.96884001e-03   8.07538384e-04   6.18487450e-03\n",
      "   1.52751037e+00   3.81582232e+00   1.54888132e+00   5.40426439e-04\n",
      "   1.03788287e-01  -4.23190591e-03   6.78223968e-06   1.49536968e-01\n",
      "  -3.09227294e-05   2.80283423e-02]\n",
      "Intercept: \n",
      "164.391664059\n",
      "Scikit learn lin reg EVS: 0.8153831306538188\n"
     ]
    }
   ],
   "source": [
    "m = LinearRegression()\n",
    "\n",
    "m.fit(polynom(x_train, 2), y_train)\n",
    "\n",
    "preds = m.predict(polynom(x_test, 2))\n",
    "\n",
    "print('weights: ')\n",
    "print(m.coef_)\n",
    "print('Intercept: ')\n",
    "print(m.intercept_)\n",
    "\n",
    "print(f'\\n Scikit learn lin reg EVS: {explained_variance_score(y_test, preds)}')"
   ]
  },
  {
   "cell_type": "code",
   "execution_count": null,
   "metadata": {},
   "outputs": [],
   "source": []
  }
 ],
 "metadata": {
  "kernelspec": {
   "display_name": "Python 3",
   "language": "python",
   "name": "python3"
  },
  "language_info": {
   "codemirror_mode": {
    "name": "ipython",
    "version": 3
   },
   "file_extension": ".py",
   "mimetype": "text/x-python",
   "name": "python",
   "nbconvert_exporter": "python",
   "pygments_lexer": "ipython3",
   "version": "3.6.3"
  }
 },
 "nbformat": 4,
 "nbformat_minor": 2
}
