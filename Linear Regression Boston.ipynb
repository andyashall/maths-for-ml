{
 "cells": [
  {
   "cell_type": "code",
   "execution_count": 235,
   "metadata": {},
   "outputs": [],
   "source": [
    "from sklearn.datasets import load_boston\n",
    "import numpy as np\n",
    "\n",
    "x = load_boston().data\n",
    "# row_sums = x.sum(axis=1)\n",
    "# x = x / row_sums[:, np.newaxis]\n",
    "# x = np.c_[np.ones(x.shape[0]), x]\n",
    "y = load_boston().target"
   ]
  },
  {
   "cell_type": "code",
   "execution_count": 236,
   "metadata": {},
   "outputs": [
    {
     "data": {
      "text/plain": [
       "(379, 13)"
      ]
     },
     "execution_count": 236,
     "metadata": {},
     "output_type": "execute_result"
    }
   ],
   "source": [
    "from sklearn.model_selection import train_test_split\n",
    "\n",
    "x_train, x_test, y_train, y_test = train_test_split(x, y, random_state=29)\n",
    "\n",
    "x_train.shape"
   ]
  },
  {
   "cell_type": "code",
   "execution_count": 63,
   "metadata": {},
   "outputs": [
    {
     "data": {
      "text/plain": [
       "array([[ 0.01428571,  0.42857143,  0.02857143,  0.52857143],\n",
       "       [ 0.01282051,  0.48717949,  0.02564103,  0.47435897]])"
      ]
     },
     "execution_count": 63,
     "metadata": {},
     "output_type": "execute_result"
    }
   ],
   "source": [
    "def scal(x):\n",
    "    nx = np.array(x.shape)\n",
    "    for c in range(x.shape[1]):\n",
    "        for r in range(x.shape[0]):\n",
    "            nx[r][c] = 1/x[r][c]\n",
    "    return nx\n",
    "\n",
    "tes = np.array([[1, 30, 2, 37], [1, 38, 2, 37]])\n",
    "\n",
    "row_sums = tes.sum(axis=1)\n",
    "new_matrix = tes / row_sums[:, np.newaxis]\n",
    "\n",
    "new_matrix"
   ]
  },
  {
   "cell_type": "code",
   "execution_count": 64,
   "metadata": {},
   "outputs": [],
   "source": [
    "def polynom(m, deg):\n",
    "    n_rows, n_cols = m.shape[0], m.shape[1]\n",
    "    nm = np.zeros((m.shape[0],n_cols*deg))\n",
    "    for d in range(deg):\n",
    "        for c in range(n_cols):\n",
    "            for r in range(n_rows):\n",
    "                nm[r][n_cols*d+c] = m[r][c]**(d+1)\n",
    "    return nm"
   ]
  },
  {
   "cell_type": "code",
   "execution_count": 164,
   "metadata": {},
   "outputs": [
    {
     "name": "stdout",
     "output_type": "stream",
     "text": [
      "[  3.59818983e+01  -9.35811334e-02   5.31800698e-02   3.67125390e-02\n",
      "   3.43338847e+00  -1.48087291e+01   3.54024870e+00  -2.54930954e-03\n",
      "  -1.36624878e+00   3.22244933e-01  -1.29376404e-02  -9.65171087e-01\n",
      "   1.10630023e-02  -5.51213763e-01]\n"
     ]
    }
   ],
   "source": [
    "def normalEq(X, y):\n",
    "    return np.linalg.inv(X.T @ X) @ X.T @ y\n",
    "\n",
    "theta = normalEq(x_train, y_train)\n",
    "\n",
    "print(theta)\n",
    "\n",
    "preds = x_test @ theta"
   ]
  },
  {
   "cell_type": "markdown",
   "metadata": {},
   "source": [
    "$X^{'}X=\\begin{bmatrix} 7 & 38.5\\\\  38.5& 218.75 \\end{bmatrix}$"
   ]
  },
  {
   "cell_type": "code",
   "execution_count": 334,
   "metadata": {},
   "outputs": [],
   "source": [
    "def scaling(X):\n",
    "    l = []\n",
    "    for k in range(X.shape[1]):\n",
    "        x = X[:,k]\n",
    "        def f(e):\n",
    "            tmp0 = sum(x) / len(x)\n",
    "            tmp1 = max(x) - min(x)\n",
    "            return (e - tmp0) / tmp1\n",
    "        m =  list(map(float, (list(map(f, x)))))\n",
    "        l.append(m)\n",
    "    return np.matrix(l).transpose()"
   ]
  },
  {
   "cell_type": "code",
   "execution_count": 360,
   "metadata": {},
   "outputs": [
    {
     "name": "stdout",
     "output_type": "stream",
     "text": [
      "(379, 14)\n",
      "(14, 1)\n",
      "[[ 22.61794195  -6.04593092   5.02942447   0.9046596    3.47654907\n",
      "   -6.83273622  18.72882357  -0.20764987 -14.35065403   7.01719818\n",
      "   -6.42739183  -9.04035945   4.46536347 -20.05722522]]\n"
     ]
    }
   ],
   "source": [
    "def BGD(X, y, n_iter, eta):\n",
    "    X = np.c_[np.ones(len(X)), X]\n",
    "    print(X.shape)\n",
    "    theta = np.random.rand(1, X.shape[1])\n",
    "    print(theta.T.shape)\n",
    "    for i in range(n_iter):\n",
    "        for c in range(X.shape[1]):\n",
    "            nX = X[:,c]\n",
    "            nT = theta[:,c]\n",
    "            gradients = ((X * theta.T) - y.T).T * nX\n",
    "            theta[:,c] = nT - eta * gradients\n",
    "    return theta\n",
    "\n",
    "yt = np.array([y_train.T])\n",
    "xt = scaling(x_train)\n",
    "\n",
    "theta = BGD(xt, yt, 1000, 0.001)\n",
    "\n",
    "print(theta)"
   ]
  },
  {
   "cell_type": "code",
   "execution_count": 338,
   "metadata": {},
   "outputs": [
    {
     "name": "stdout",
     "output_type": "stream",
     "text": [
      "458\n"
     ]
    }
   ],
   "source": [
    "def MGD(A, y, eta, d):\n",
    "    X = np.c_[np.ones(len(A)), A]\n",
    "    theta = np.random.rand(1, X.shape[1])\n",
    "    m = len(X)\n",
    "    delta = cost(X, y, theta)\n",
    "    steps = 0\n",
    "    while delta > d:\n",
    "        beg = cost(X, y, theta)\n",
    "        for j in range(X.shape[1]):\n",
    "            hyp = X * theta.T\n",
    "            diff = hyp - y.T\n",
    "            grad = diff.T * X[:,j]\n",
    "            theta[:,j] = theta[:,j] - eta * grad\n",
    "        end = cost(X, y, theta)\n",
    "        delta = abs(end - beg)\n",
    "        steps+=1\n",
    "    return (theta, steps)\n",
    "\n",
    "def cost(A, y, theta):\n",
    "    return (1 / len(A)) * float(sum([x * x for x in A * theta.T - y.T]))\n",
    "\n",
    "yt = np.array([y_train.T])\n",
    "xt = scaling(x_train)\n",
    "\n",
    "theta, steps = MGD(xt, yt, 0.001, 0.001)\n",
    "\n",
    "print(steps)"
   ]
  },
  {
   "cell_type": "code",
   "execution_count": 355,
   "metadata": {},
   "outputs": [
    {
     "data": {
      "text/plain": [
       "matrix([[ 24.76444322],\n",
       "        [ 41.15559461],\n",
       "        [ 21.93852511],\n",
       "        [ 18.23271052],\n",
       "        [ 19.27594757],\n",
       "        [ 21.13576644],\n",
       "        [ 28.99675252],\n",
       "        [ 32.25149197],\n",
       "        [ 18.72633136],\n",
       "        [  5.8757972 ],\n",
       "        [ 43.58878742],\n",
       "        [ 27.77584277],\n",
       "        [ 39.78589125],\n",
       "        [ 13.84579933],\n",
       "        [ 24.59846886],\n",
       "        [ 28.05859242],\n",
       "        [ 23.89191744],\n",
       "        [ 26.0721882 ],\n",
       "        [ 18.95919159],\n",
       "        [ 20.46077954],\n",
       "        [ 38.22442717],\n",
       "        [ 21.39827615],\n",
       "        [ 19.39726721],\n",
       "        [ 20.93762871],\n",
       "        [ 33.6700485 ],\n",
       "        [ 21.00910764],\n",
       "        [ 35.58040407],\n",
       "        [ 25.16053918],\n",
       "        [ 29.38320877],\n",
       "        [ 34.2710812 ],\n",
       "        [ 33.90797227],\n",
       "        [ 26.06723928],\n",
       "        [ 15.00812784],\n",
       "        [ 26.13773878],\n",
       "        [ 15.06411414],\n",
       "        [  6.70235555],\n",
       "        [ 23.3702366 ],\n",
       "        [  7.68000001],\n",
       "        [ 18.39459113],\n",
       "        [ 20.60022097],\n",
       "        [ 28.34877159],\n",
       "        [ 24.13107915],\n",
       "        [ 31.27131666],\n",
       "        [ 13.16940788],\n",
       "        [  2.22451528],\n",
       "        [ 16.45655125],\n",
       "        [ 15.15060756],\n",
       "        [ 41.88189269],\n",
       "        [ 18.00908036],\n",
       "        [ 19.7775932 ],\n",
       "        [ 27.40666496],\n",
       "        [ 17.14549305],\n",
       "        [ 23.9564495 ],\n",
       "        [ 16.97019605],\n",
       "        [ 20.14067971],\n",
       "        [ 12.12979814],\n",
       "        [ 27.94291295],\n",
       "        [ 22.65482564],\n",
       "        [ 19.71892472],\n",
       "        [ 20.68433772],\n",
       "        [ 29.89144908],\n",
       "        [ 12.67111204],\n",
       "        [ 26.88779972],\n",
       "        [ 22.37458227],\n",
       "        [ 20.67482929],\n",
       "        [ 16.82908102],\n",
       "        [ 28.44392694],\n",
       "        [ 36.16787839],\n",
       "        [  6.34888821],\n",
       "        [ 22.44710562],\n",
       "        [ 13.42988596],\n",
       "        [ 38.96871347],\n",
       "        [ 15.2804096 ],\n",
       "        [ 19.93303292],\n",
       "        [ 16.50774832],\n",
       "        [ 16.6272877 ],\n",
       "        [ 16.54320193],\n",
       "        [ 27.07951875],\n",
       "        [ 33.50727669],\n",
       "        [ 13.47408613],\n",
       "        [ 38.89751289],\n",
       "        [ 22.05874543],\n",
       "        [ 28.19074246],\n",
       "        [ 11.1211491 ],\n",
       "        [ 19.32626901],\n",
       "        [ 16.53962192],\n",
       "        [ 31.74066482],\n",
       "        [ 32.27060769],\n",
       "        [ 17.81023717],\n",
       "        [ 22.09261123],\n",
       "        [ 24.36105658],\n",
       "        [ 23.16894189],\n",
       "        [ 23.32954016],\n",
       "        [ 23.97413317],\n",
       "        [ 16.783898  ],\n",
       "        [ 12.28551139],\n",
       "        [ 18.62272179],\n",
       "        [ 30.95082302],\n",
       "        [ 23.73354659],\n",
       "        [ 23.41782799],\n",
       "        [  8.545779  ],\n",
       "        [ 17.48673701],\n",
       "        [ 31.24202898],\n",
       "        [ 21.36920824],\n",
       "        [ 18.68688165],\n",
       "        [ 18.94851996],\n",
       "        [ 13.99970824],\n",
       "        [ 23.07902046],\n",
       "        [ 11.50307724],\n",
       "        [ 19.28508959],\n",
       "        [ 16.36092448],\n",
       "        [ 31.95415838],\n",
       "        [ 26.11929895],\n",
       "        [ 18.64996321],\n",
       "        [ 35.70113213],\n",
       "        [ 14.51872141],\n",
       "        [ 21.87828634],\n",
       "        [ 29.48614578],\n",
       "        [ 16.9238549 ],\n",
       "        [ 36.66786479],\n",
       "        [ 24.89962969],\n",
       "        [ 24.71652954],\n",
       "        [ 23.81515843],\n",
       "        [ 25.38106162],\n",
       "        [ 18.13376568],\n",
       "        [ 25.59230121],\n",
       "        [ 12.24330221]])"
      ]
     },
     "execution_count": 355,
     "metadata": {},
     "output_type": "execute_result"
    }
   ],
   "source": [
    "preds = np.c_[np.ones(len(x_test)), scaling(x_test)] @ theta.T\n",
    "\n",
    "preds"
   ]
  },
  {
   "cell_type": "code",
   "execution_count": 163,
   "metadata": {},
   "outputs": [
    {
     "name": "stderr",
     "output_type": "stream",
     "text": [
      "/Users/kkgh070/anaconda3/envs/porto/lib/python3.6/site-packages/ipykernel_launcher.py:11: RuntimeWarning: invalid value encountered in subtract\n",
      "  # This is added back by InteractiveShellApp.init_path()\n"
     ]
    },
    {
     "name": "stdout",
     "output_type": "stream",
     "text": [
      "[[ nan]]\n",
      "[[ nan]]\n",
      "[[ 23.85098248]\n",
      " [         nan]\n",
      " [         nan]\n",
      " [         nan]\n",
      " [ 29.86148861]\n",
      " [ 36.5634841 ]\n",
      " [         nan]\n",
      " [         nan]\n",
      " [  8.52494419]\n",
      " [         nan]\n",
      " [         nan]\n",
      " [         nan]\n",
      " [         nan]\n",
      " [         nan]]\n"
     ]
    }
   ],
   "source": [
    "def SGD(X, y, eta, n_epoch):\n",
    "    theta = np.random.rand(X.shape[1], 1)\n",
    "    m = X.shape[0]\n",
    "    for epoch in range(n_epoch):\n",
    "        for c in range(X.shape[1]):\n",
    "            for i in range(m):\n",
    "                ri = np.random.randint(m)\n",
    "                guess = X[ri:ri+1, c:c+1] @ theta[c:c+1]\n",
    "                diff = guess - y[ri:ri+1]\n",
    "                grad = X[ri:ri+1, c:c+1].T @ diff\n",
    "                theta[c:c+1] = theta[c:c+1] - grad * eta\n",
    "    print(diff)\n",
    "    print(grad)\n",
    "    print(theta)\n",
    "\n",
    "SGD(x_train, y_train, 0.1, 50)"
   ]
  },
  {
   "cell_type": "code",
   "execution_count": 67,
   "metadata": {},
   "outputs": [],
   "source": [
    "from sklearn.linear_model import LinearRegression\n",
    "from sklearn.pipeline import Pipeline\n",
    "from sklearn.preprocessing import PolynomialFeatures, StandardScaler\n",
    "\n",
    "polybig_features = PolynomialFeatures(degree=2, include_bias=False)\n",
    "std_scaler = StandardScaler()\n",
    "lin_reg = LinearRegression()\n",
    "polynomial_regression = Pipeline([\n",
    "        (\"poly_features\", polybig_features),\n",
    "        (\"std_scaler\", std_scaler),\n",
    "        (\"lin_reg\", lin_reg),\n",
    "    ])\n",
    "polynomial_regression.fit(x_train, y_train)\n",
    "preds = polynomial_regression.predict(x_test)"
   ]
  },
  {
   "cell_type": "code",
   "execution_count": 68,
   "metadata": {},
   "outputs": [
    {
     "name": "stdout",
     "output_type": "stream",
     "text": [
      "weights: \n",
      "[ -4.82353170e-01  -6.11811058e-02  -1.03006200e-01   1.52751036e+00\n",
      "  -2.66093614e+01  -1.72065010e+01  -5.67860772e-02  -2.20943742e+00\n",
      "   5.80765699e-01  -2.01868784e-02  -6.10801742e+00   2.14283984e-02\n",
      "  -1.54975811e+00   4.96884001e-03   8.07538384e-04   6.18487450e-03\n",
      "   1.52751037e+00   3.81582232e+00   1.54888132e+00   5.40426439e-04\n",
      "   1.03788287e-01  -4.23190591e-03   6.78223968e-06   1.49536968e-01\n",
      "  -3.09227294e-05   2.80283423e-02]\n",
      "Intercept: \n",
      "164.391664059\n"
     ]
    }
   ],
   "source": [
    "m = LinearRegression()\n",
    "\n",
    "m.fit(polynom(x_train, 2), y_train)\n",
    "\n",
    "preds = m.predict(polynom(x_test, 2))\n",
    "\n",
    "print('weights: ')\n",
    "print(m.coef_)\n",
    "print('Intercept: ')\n",
    "print(m.intercept_)"
   ]
  },
  {
   "cell_type": "code",
   "execution_count": 356,
   "metadata": {},
   "outputs": [
    {
     "data": {
      "text/plain": [
       "0.76066541110391184"
      ]
     },
     "execution_count": 356,
     "metadata": {},
     "output_type": "execute_result"
    }
   ],
   "source": [
    "from sklearn.metrics import explained_variance_score\n",
    "\n",
    "explained_variance_score(y_test, preds)"
   ]
  },
  {
   "cell_type": "code",
   "execution_count": null,
   "metadata": {},
   "outputs": [],
   "source": []
  }
 ],
 "metadata": {
  "kernelspec": {
   "display_name": "Python 3",
   "language": "python",
   "name": "python3"
  },
  "language_info": {
   "codemirror_mode": {
    "name": "ipython",
    "version": 3
   },
   "file_extension": ".py",
   "mimetype": "text/x-python",
   "name": "python",
   "nbconvert_exporter": "python",
   "pygments_lexer": "ipython3",
   "version": "3.6.3"
  }
 },
 "nbformat": 4,
 "nbformat_minor": 2
}
