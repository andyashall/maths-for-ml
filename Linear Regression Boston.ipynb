{
 "cells": [
  {
   "cell_type": "code",
   "execution_count": 109,
   "metadata": {},
   "outputs": [],
   "source": [
    "from sklearn.datasets import load_boston\n",
    "import numpy as np\n",
    "\n",
    "x = load_boston().data\n",
    "# row_sums = x.sum(axis=1)\n",
    "# x = x / row_sums[:, np.newaxis]\n",
    "x = np.c_[np.ones(x.shape[0]), x]\n",
    "y = load_boston().target"
   ]
  },
  {
   "cell_type": "code",
   "execution_count": 110,
   "metadata": {},
   "outputs": [
    {
     "data": {
      "text/plain": [
       "(379, 14)"
      ]
     },
     "execution_count": 110,
     "metadata": {},
     "output_type": "execute_result"
    }
   ],
   "source": [
    "from sklearn.model_selection import train_test_split\n",
    "\n",
    "x_train, x_test, y_train, y_test = train_test_split(x, y, random_state=29)\n",
    "\n",
    "x_train.shape"
   ]
  },
  {
   "cell_type": "code",
   "execution_count": 63,
   "metadata": {},
   "outputs": [
    {
     "data": {
      "text/plain": [
       "array([[ 0.01428571,  0.42857143,  0.02857143,  0.52857143],\n",
       "       [ 0.01282051,  0.48717949,  0.02564103,  0.47435897]])"
      ]
     },
     "execution_count": 63,
     "metadata": {},
     "output_type": "execute_result"
    }
   ],
   "source": [
    "def scal(x):\n",
    "    nx = np.array(x.shape)\n",
    "    for c in range(x.shape[1]):\n",
    "        for r in range(x.shape[0]):\n",
    "            nx[r][c] = 1/x[r][c]\n",
    "    return nx\n",
    "\n",
    "tes = np.array([[1, 30, 2, 37], [1, 38, 2, 37]])\n",
    "\n",
    "row_sums = tes.sum(axis=1)\n",
    "new_matrix = tes / row_sums[:, np.newaxis]\n",
    "\n",
    "new_matrix"
   ]
  },
  {
   "cell_type": "code",
   "execution_count": 64,
   "metadata": {},
   "outputs": [],
   "source": [
    "def polynom(m, deg):\n",
    "    n_rows, n_cols = m.shape[0], m.shape[1]\n",
    "    nm = np.zeros((m.shape[0],n_cols*deg))\n",
    "    for d in range(deg):\n",
    "        for c in range(n_cols):\n",
    "            for r in range(n_rows):\n",
    "                nm[r][n_cols*d+c] = m[r][c]**(d+1)\n",
    "    return nm"
   ]
  },
  {
   "cell_type": "code",
   "execution_count": 65,
   "metadata": {},
   "outputs": [
    {
     "name": "stdout",
     "output_type": "stream",
     "text": [
      "[-0.06672707  0.05180291  0.01762775  3.63472585 -1.78560749  5.73444855\n",
      " -0.0093519  -0.8982956   0.17717862 -0.01007408 -0.40261114  0.01682018\n",
      " -0.43103038]\n"
     ]
    }
   ],
   "source": [
    "def normalEq(X, y):\n",
    "    return np.linalg.inv(X.T @ X) @ X.T @ y\n",
    "\n",
    "theta = normalEq(x_train, y_train)\n",
    "\n",
    "print(theta)\n",
    "\n",
    "preds = x_test @ theta"
   ]
  },
  {
   "cell_type": "code",
   "execution_count": 79,
   "metadata": {},
   "outputs": [
    {
     "name": "stdout",
     "output_type": "stream",
     "text": [
      "(13, 1)\n",
      "(379, 13)\n",
      "[[   5610.61215264    5649.23152416    5393.74952792 ...,    5527.43196782\n",
      "     5342.50459263    5564.5659789 ]\n",
      " [  11094.54653359   11221.76130932   10380.18663913 ...,   10820.54547818\n",
      "    10211.3824175    10942.86737792]\n",
      " [  13619.39290791   13736.60392638   12961.20795805 ...,   13366.93840659\n",
      "    12805.67795277   13479.64130897]\n",
      " ..., \n",
      " [  19973.53797164   20164.4973384    18901.22768141 ...,   19562.24087402\n",
      "    18647.8392909    19745.85564974]\n",
      " [ 371130.18158557  374835.49879929  350323.40030852 ...,  363149.49835602\n",
      "   345406.72939032  366712.30336921]\n",
      " [  14849.14358045   14980.87755406   14109.40665169 ...,   14565.40886805\n",
      "    13934.60580208   14692.07615037]]\n",
      "[[ -3.16696676e+07  -3.19536027e+07  -3.00752625e+07 ...,  -3.10581149e+07\n",
      "   -2.96985024e+07  -3.13311295e+07]\n",
      " [ -7.28176835e+07  -7.34955164e+07  -6.90113912e+07 ...,  -7.13577357e+07\n",
      "   -6.81119591e+07  -7.20094981e+07]\n",
      " [ -8.42862797e+07  -8.50535294e+07  -7.99778775e+07 ...,  -8.26337419e+07\n",
      "   -7.89597961e+07  -8.33714820e+07]\n",
      " ..., \n",
      " [ -1.27773418e+08  -1.28944019e+08  -1.21200046e+08 ...,  -1.25252125e+08\n",
      "   -1.19646750e+08  -1.26377702e+08]\n",
      " [ -2.44329119e+09  -2.46578412e+09  -2.31698477e+09 ...,  -2.39484489e+09\n",
      "   -2.28713839e+09  -2.41647271e+09]\n",
      " [ -9.22940257e+07  -9.31353214e+07  -8.75698269e+07 ...,  -9.04820042e+07\n",
      "   -8.64534922e+07  -9.12909424e+07]]\n",
      "[[  1.99209351e+11   2.01028703e+11   1.88992990e+11 ...,   1.95290747e+11\n",
      "    1.86578850e+11   1.97040124e+11]\n",
      " [  4.65167168e+11   4.69427286e+11   4.41244968e+11 ...,   4.55991530e+11\n",
      "    4.35592120e+11   4.60087797e+11]\n",
      " [  5.33499276e+11   5.38377114e+11   5.06108336e+11 ...,   5.22993162e+11\n",
      "    4.99635820e+11   5.27683391e+11]\n",
      " ..., \n",
      " [  8.10900067e+11   8.18317730e+11   7.69247040e+11 ...,   7.94923564e+11\n",
      "    7.59404373e+11   8.02055932e+11]\n",
      " [  1.55372007e+13   1.56793771e+13   1.47388251e+13 ...,   1.52309744e+13\n",
      "    1.45501679e+13   1.53676826e+13]\n",
      " [  5.84512626e+11   5.89857425e+11   5.54499527e+11 ...,   5.73000753e+11\n",
      "    5.47407391e+11   5.78139982e+11]]\n",
      "[[ -1.26262486e+15  -1.27417198e+15  -1.19778335e+15 ...,  -1.23775415e+15\n",
      "   -1.18246122e+15  -1.24885714e+15]\n",
      " [ -2.95169572e+15  -2.97869548e+15  -2.80008172e+15 ...,  -2.89354241e+15\n",
      "   -2.76425512e+15  -2.91950371e+15]\n",
      " [ -3.38297924e+15  -3.41392025e+15  -3.20923357e+15 ...,  -3.31633707e+15\n",
      "   -3.16817722e+15  -3.34608804e+15]\n",
      " ..., \n",
      " [ -5.14301721e+15  -5.19005732e+15  -4.87886888e+15 ...,  -5.04170004e+15\n",
      "   -4.81645027e+15  -5.08693092e+15]\n",
      " [ -9.85570141e+16  -9.94584801e+16  -9.34949356e+16 ...,  -9.66153950e+16\n",
      "   -9.22987595e+16  -9.74821892e+16]\n",
      " [ -3.70661521e+15  -3.74051648e+15  -3.51624657e+15 ...,  -3.63359710e+15\n",
      "   -3.47126220e+15  -3.66619447e+15]]\n",
      "[[  8.00725170e+18   8.08048801e+18   7.59600166e+18 ...,   7.84951196e+18\n",
      "    7.49882272e+18   7.91993149e+18]\n",
      " [  1.87205015e+19   1.88917265e+19   1.77590077e+19 ...,   1.83517094e+19\n",
      "    1.75318053e+19   1.85163487e+19]\n",
      " [  2.14547425e+19   2.16509741e+19   2.03528267e+19 ...,   2.10320898e+19\n",
      "    2.00924424e+19   2.12207741e+19]\n",
      " ..., \n",
      " [  3.26173170e+19   3.29156457e+19   3.09420869e+19 ...,   3.19747630e+19\n",
      "    3.05462277e+19   3.22616175e+19]\n",
      " [  6.25061178e+20   6.30778203e+20   5.92957882e+20 ...,   6.12747585e+20\n",
      "    5.85371830e+20   6.18244725e+20]\n",
      " [  2.35073035e+19   2.37223085e+19   2.22999674e+19 ...,   2.30442157e+19\n",
      "    2.20146722e+19   2.32509513e+19]]\n",
      "[[ -7.88322596e+16]\n",
      " [ -1.84305323e+17]\n",
      " [ -2.11224243e+17]\n",
      " [ -1.27319823e+15]\n",
      " [ -9.86261498e+15]\n",
      " [ -1.07954209e+17]\n",
      " [ -1.22583331e+18]\n",
      " [ -6.25416165e+16]\n",
      " [ -1.95982161e+17]\n",
      " [ -7.72039731e+18]\n",
      " [ -3.21120975e+17]\n",
      " [ -6.15379399e+18]\n",
      " [ -2.31431924e+17]]\n"
     ]
    }
   ],
   "source": [
    "def BGD(X, y, n_epoch, eta):\n",
    "    theta = np.random.rand(X.shape[1], 1)\n",
    "    print(theta.shape)\n",
    "    print(X.shape)\n",
    "    m = len(X)\n",
    "    for i in range(n_epoch):\n",
    "        gradients = 2/m * (X.T @ ((X @ theta) - y))\n",
    "        print(gradients)\n",
    "        theta = theta - eta * gradients\n",
    "    return np.mean(theta, axis=1).reshape(X.shape[1], 1)\n",
    "\n",
    "theta_BGD = BGD(x_train, y_train, 5, 0.01)\n",
    "\n",
    "print(theta_BGD)\n",
    "\n",
    "preds = x_test @ theta_BGD"
   ]
  },
  {
   "cell_type": "code",
   "execution_count": 153,
   "metadata": {},
   "outputs": [
    {
     "name": "stderr",
     "output_type": "stream",
     "text": [
      "/Users/kkgh070/anaconda3/envs/porto/lib/python3.6/site-packages/ipykernel_launcher.py:11: RuntimeWarning: invalid value encountered in subtract\n",
      "  # This is added back by InteractiveShellApp.init_path()\n"
     ]
    },
    {
     "ename": "TypeError",
     "evalue": "'float' object is not callable",
     "output_type": "error",
     "traceback": [
      "\u001b[0;31m---------------------------------------------------------------------------\u001b[0m",
      "\u001b[0;31mTypeError\u001b[0m                                 Traceback (most recent call last)",
      "\u001b[0;32m<ipython-input-153-a8df9bcfdca9>\u001b[0m in \u001b[0;36m<module>\u001b[0;34m()\u001b[0m\n\u001b[1;32m     16\u001b[0m     \u001b[0mprint\u001b[0m\u001b[0;34m(\u001b[0m\u001b[0mtheta\u001b[0m\u001b[0;34m)\u001b[0m\u001b[0;34m\u001b[0m\u001b[0m\n\u001b[1;32m     17\u001b[0m \u001b[0;34m\u001b[0m\u001b[0m\n\u001b[0;32m---> 18\u001b[0;31m \u001b[0mSGD\u001b[0m\u001b[0;34m(\u001b[0m\u001b[0mx_train\u001b[0m\u001b[0;34m,\u001b[0m \u001b[0my_train\u001b[0m\u001b[0;34m,\u001b[0m \u001b[0;36m0.1\u001b[0m\u001b[0;34m,\u001b[0m \u001b[0;36m50\u001b[0m\u001b[0;34m)\u001b[0m\u001b[0;34m\u001b[0m\u001b[0m\n\u001b[0m",
      "\u001b[0;32m<ipython-input-153-a8df9bcfdca9>\u001b[0m in \u001b[0;36mSGD\u001b[0;34m(X, y, eta, n_epoch)\u001b[0m\n\u001b[1;32m     10\u001b[0m                 \u001b[0mgrad\u001b[0m \u001b[0;34m=\u001b[0m \u001b[0mX\u001b[0m\u001b[0;34m[\u001b[0m\u001b[0mri\u001b[0m\u001b[0;34m:\u001b[0m\u001b[0mri\u001b[0m\u001b[0;34m+\u001b[0m\u001b[0;36m1\u001b[0m\u001b[0;34m,\u001b[0m \u001b[0mc\u001b[0m\u001b[0;34m:\u001b[0m\u001b[0mc\u001b[0m\u001b[0;34m+\u001b[0m\u001b[0;36m1\u001b[0m\u001b[0;34m]\u001b[0m\u001b[0;34m.\u001b[0m\u001b[0mT\u001b[0m \u001b[0;34m@\u001b[0m \u001b[0mdiff\u001b[0m\u001b[0;34m\u001b[0m\u001b[0m\n\u001b[1;32m     11\u001b[0m                 \u001b[0mtheta\u001b[0m\u001b[0;34m[\u001b[0m\u001b[0mc\u001b[0m\u001b[0;34m:\u001b[0m\u001b[0mc\u001b[0m\u001b[0;34m+\u001b[0m\u001b[0;36m1\u001b[0m\u001b[0;34m]\u001b[0m \u001b[0;34m=\u001b[0m \u001b[0mtheta\u001b[0m\u001b[0;34m[\u001b[0m\u001b[0mc\u001b[0m\u001b[0;34m:\u001b[0m\u001b[0mc\u001b[0m\u001b[0;34m+\u001b[0m\u001b[0;36m1\u001b[0m\u001b[0;34m]\u001b[0m \u001b[0;34m-\u001b[0m \u001b[0mgrad\u001b[0m \u001b[0;34m*\u001b[0m \u001b[0meta\u001b[0m\u001b[0;34m\u001b[0m\u001b[0m\n\u001b[0;32m---> 12\u001b[0;31m     \u001b[0;32mif\u001b[0m \u001b[0mtheta\u001b[0m \u001b[0;32mis\u001b[0m \u001b[0mnp\u001b[0m\u001b[0;34m.\u001b[0m\u001b[0mNaN\u001b[0m\u001b[0;34m(\u001b[0m\u001b[0;34m)\u001b[0m\u001b[0;34m:\u001b[0m\u001b[0;34m\u001b[0m\u001b[0m\n\u001b[0m\u001b[1;32m     13\u001b[0m         \u001b[0mtheta\u001b[0m\u001b[0;34m=\u001b[0m\u001b[0;36m0\u001b[0m\u001b[0;34m\u001b[0m\u001b[0m\n\u001b[1;32m     14\u001b[0m     \u001b[0mprint\u001b[0m\u001b[0;34m(\u001b[0m\u001b[0mdiff\u001b[0m\u001b[0;34m)\u001b[0m\u001b[0;34m\u001b[0m\u001b[0m\n",
      "\u001b[0;31mTypeError\u001b[0m: 'float' object is not callable"
     ]
    }
   ],
   "source": [
    "def SGD(X, y, eta, n_epoch):\n",
    "    theta = np.random.rand(X.shape[1], 1)\n",
    "    m = X.shape[0]\n",
    "    for epoch in range(n_epoch):\n",
    "        for c in range(X.shape[1]):\n",
    "            for i in range(m):\n",
    "                ri = np.random.randint(m)\n",
    "                guess = X[ri:ri+1, c:c+1] @ theta[c:c+1]\n",
    "                diff = guess - y[ri:ri+1]\n",
    "                grad = X[ri:ri+1, c:c+1].T @ diff\n",
    "                theta[c:c+1] = theta[c:c+1] - grad * eta\n",
    "    if theta is np.NaN():\n",
    "        theta=0\n",
    "    print(diff)\n",
    "    print(grad)\n",
    "    print(theta)\n",
    "\n",
    "SGD(x_train, y_train, 0.1, 50)"
   ]
  },
  {
   "cell_type": "code",
   "execution_count": 67,
   "metadata": {},
   "outputs": [],
   "source": [
    "from sklearn.linear_model import LinearRegression\n",
    "from sklearn.pipeline import Pipeline\n",
    "from sklearn.preprocessing import PolynomialFeatures, StandardScaler\n",
    "\n",
    "polybig_features = PolynomialFeatures(degree=2, include_bias=False)\n",
    "std_scaler = StandardScaler()\n",
    "lin_reg = LinearRegression()\n",
    "polynomial_regression = Pipeline([\n",
    "        (\"poly_features\", polybig_features),\n",
    "        (\"std_scaler\", std_scaler),\n",
    "        (\"lin_reg\", lin_reg),\n",
    "    ])\n",
    "polynomial_regression.fit(x_train, y_train)\n",
    "preds = polynomial_regression.predict(x_test)"
   ]
  },
  {
   "cell_type": "code",
   "execution_count": 68,
   "metadata": {},
   "outputs": [
    {
     "name": "stdout",
     "output_type": "stream",
     "text": [
      "weights: \n",
      "[ -4.82353170e-01  -6.11811058e-02  -1.03006200e-01   1.52751036e+00\n",
      "  -2.66093614e+01  -1.72065010e+01  -5.67860772e-02  -2.20943742e+00\n",
      "   5.80765699e-01  -2.01868784e-02  -6.10801742e+00   2.14283984e-02\n",
      "  -1.54975811e+00   4.96884001e-03   8.07538384e-04   6.18487450e-03\n",
      "   1.52751037e+00   3.81582232e+00   1.54888132e+00   5.40426439e-04\n",
      "   1.03788287e-01  -4.23190591e-03   6.78223968e-06   1.49536968e-01\n",
      "  -3.09227294e-05   2.80283423e-02]\n",
      "Intercept: \n",
      "164.391664059\n"
     ]
    }
   ],
   "source": [
    "m = LinearRegression()\n",
    "\n",
    "m.fit(polynom(x_train, 2), y_train)\n",
    "\n",
    "preds = m.predict(polynom(x_test, 2))\n",
    "\n",
    "print('weights: ')\n",
    "print(m.coef_)\n",
    "print('Intercept: ')\n",
    "print(m.intercept_)"
   ]
  },
  {
   "cell_type": "code",
   "execution_count": 69,
   "metadata": {},
   "outputs": [
    {
     "data": {
      "text/plain": [
       "0.81538313065381884"
      ]
     },
     "execution_count": 69,
     "metadata": {},
     "output_type": "execute_result"
    }
   ],
   "source": [
    "from sklearn.metrics import explained_variance_score\n",
    "\n",
    "explained_variance_score(y_test, preds)"
   ]
  },
  {
   "cell_type": "code",
   "execution_count": null,
   "metadata": {},
   "outputs": [],
   "source": []
  }
 ],
 "metadata": {
  "kernelspec": {
   "display_name": "Python 3",
   "language": "python",
   "name": "python3"
  },
  "language_info": {
   "codemirror_mode": {
    "name": "ipython",
    "version": 3
   },
   "file_extension": ".py",
   "mimetype": "text/x-python",
   "name": "python",
   "nbconvert_exporter": "python",
   "pygments_lexer": "ipython3",
   "version": "3.6.3"
  }
 },
 "nbformat": 4,
 "nbformat_minor": 2
}
