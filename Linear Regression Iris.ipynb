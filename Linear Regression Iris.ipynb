{
 "cells": [
  {
   "cell_type": "code",
   "execution_count": 211,
   "metadata": {},
   "outputs": [],
   "source": [
    "from sklearn.datasets import load_iris\n",
    "import numpy as np\n",
    "\n",
    "x = load_iris().data\n",
    "x = np.c_[x, np.ones(x.shape[0])]\n",
    "y = load_iris().target"
   ]
  },
  {
   "cell_type": "code",
   "execution_count": 212,
   "metadata": {},
   "outputs": [
    {
     "data": {
      "text/plain": [
       "(112, 5)"
      ]
     },
     "execution_count": 212,
     "metadata": {},
     "output_type": "execute_result"
    }
   ],
   "source": [
    "from sklearn.model_selection import train_test_split\n",
    "\n",
    "x_train, x_test, y_train, y_test = train_test_split(x, y, random_state=29)\n",
    "\n",
    "x_train.shape"
   ]
  },
  {
   "cell_type": "code",
   "execution_count": 213,
   "metadata": {},
   "outputs": [
    {
     "name": "stdout",
     "output_type": "stream",
     "text": [
      "[[ 0.49200034]\n",
      " [ 0.61002333]\n",
      " [ 0.80372204]\n",
      " [ 0.12144007]\n",
      " [ 0.03269604]]\n",
      "[[-0.17092451]\n",
      " [ 0.05433827]\n",
      " [ 0.42032977]\n",
      " [ 0.24853721]\n",
      " [-0.04787395]]\n"
     ]
    }
   ],
   "source": [
    "def learning_schedule(t):\n",
    "    return 5 / (t + 50)\n",
    "\n",
    "def SGD(X, y, n_epoch, eta):\n",
    "    theta = np.random.rand(X.shape[1], 1)\n",
    "    print(theta)\n",
    "    m = X.shape[0]\n",
    "    for epoch in range(1, n_epoch):\n",
    "        for n in range(m):\n",
    "            r = np.random.randint(0, m-1)\n",
    "            xi, yi = X[r:r+1], y[r:r+1]\n",
    "            diff = xi.T @ ((xi @ theta) - yi)\n",
    "            eta = learning_schedule(epoch * m + n)\n",
    "            theta = theta - (diff * eta)\n",
    "    return theta\n",
    "\n",
    "theta = SGD(x_train, y_train, 50, 0.1)\n",
    "\n",
    "print(theta)\n",
    "\n",
    "preds = x_test @ theta"
   ]
  },
  {
   "cell_type": "code",
   "execution_count": 214,
   "metadata": {},
   "outputs": [],
   "source": [
    "preds = np.rint(preds)"
   ]
  },
  {
   "cell_type": "code",
   "execution_count": 215,
   "metadata": {},
   "outputs": [
    {
     "data": {
      "text/plain": [
       "0.97368421052631582"
      ]
     },
     "execution_count": 215,
     "metadata": {},
     "output_type": "execute_result"
    }
   ],
   "source": [
    "from sklearn.metrics import accuracy_score\n",
    "\n",
    "accuracy_score(y_test, preds)"
   ]
  },
  {
   "cell_type": "code",
   "execution_count": 216,
   "metadata": {},
   "outputs": [
    {
     "name": "stdout",
     "output_type": "stream",
     "text": [
      "[[ 0.02504654]\n",
      " [-0.01634352]\n",
      " [-0.02648509]\n",
      " [ 0.034934  ]\n",
      " [ 0.88059331]]\n"
     ]
    }
   ],
   "source": [
    "\n",
    "def BGD(X, y, n_epoch, eta):\n",
    "    theta = np.random.rand(X.shape[1], 1)\n",
    "    m = len(X)\n",
    "    for i in range(n_epoch):\n",
    "        gradients = 2/m * X.T @ ((X @ theta) - y)\n",
    "        theta = theta - eta * gradients\n",
    "    return np.mean(theta, axis=1).reshape(X.shape[1], 1)\n",
    "\n",
    "theta_BGD = BGD(x_train, y_train, 5000, 0.01)\n",
    "\n",
    "print(theta_BGD)"
   ]
  },
  {
   "cell_type": "code",
   "execution_count": 217,
   "metadata": {},
   "outputs": [
    {
     "data": {
      "text/plain": [
       "0.34210526315789475"
      ]
     },
     "execution_count": 217,
     "metadata": {},
     "output_type": "execute_result"
    }
   ],
   "source": [
    "preds = x_test @ theta_BGD\n",
    "preds = np.rint(preds)\n",
    "accuracy_score(y_test, preds)"
   ]
  },
  {
   "cell_type": "code",
   "execution_count": null,
   "metadata": {},
   "outputs": [],
   "source": [
    "# theta_NORM = (np.linalg.inv(x_train.T @ x_train) @ x_train.T @ y_train).reshape((5, 1))"
   ]
  }
 ],
 "metadata": {
  "kernelspec": {
   "display_name": "Python 3",
   "language": "python",
   "name": "python3"
  },
  "language_info": {
   "codemirror_mode": {
    "name": "ipython",
    "version": 3
   },
   "file_extension": ".py",
   "mimetype": "text/x-python",
   "name": "python",
   "nbconvert_exporter": "python",
   "pygments_lexer": "ipython3",
   "version": "3.6.3"
  }
 },
 "nbformat": 4,
 "nbformat_minor": 2
}
