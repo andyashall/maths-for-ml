{
 "cells": [
  {
   "cell_type": "code",
   "execution_count": 2,
   "metadata": {},
   "outputs": [],
   "source": [
    "from sklearn.datasets import load_iris\n",
    "import numpy as np\n",
    "\n",
    "x = load_iris().data\n",
    "x = np.c_[x, np.ones(x.shape[0])]\n",
    "y = load_iris().target"
   ]
  },
  {
   "cell_type": "code",
   "execution_count": 3,
   "metadata": {},
   "outputs": [
    {
     "data": {
      "text/plain": [
       "(112, 5)"
      ]
     },
     "execution_count": 3,
     "metadata": {},
     "output_type": "execute_result"
    }
   ],
   "source": [
    "from sklearn.model_selection import train_test_split\n",
    "\n",
    "x_train, x_test, y_train, y_test = train_test_split(x, y, random_state=29)\n",
    "\n",
    "x_train.shape"
   ]
  },
  {
   "cell_type": "code",
   "execution_count": 87,
   "metadata": {},
   "outputs": [
    {
     "name": "stdout",
     "output_type": "stream",
     "text": [
      "[[ 0.87485461]\n",
      " [ 0.07824321]\n",
      " [ 0.59018649]\n",
      " [ 0.49583709]\n",
      " [ 0.95820811]]\n",
      "[[-0.05926657]\n",
      " [-0.23835602]\n",
      " [ 0.17448713]\n",
      " [ 0.61293062]\n",
      " [ 0.6548289 ]]\n"
     ]
    }
   ],
   "source": [
    "def learning_schedule(t):\n",
    "    return 5 / (t + 50)\n",
    "\n",
    "def SGD(X, y, n_epoch, eta):\n",
    "    theta = np.random.rand(X.shape[1], 1)\n",
    "    print(theta)\n",
    "    m = X.shape[0]\n",
    "    for epoch in range(1, n_epoch):\n",
    "        for n in range(m):\n",
    "            r = np.random.randint(0, m-1)\n",
    "            xi, yi = X[r:r+1], y[r:r+1]\n",
    "            diff = xi.T @ ((xi @ theta) - yi)\n",
    "            eta = learning_schedule(epoch * m + n)\n",
    "            theta = theta - (diff * eta)\n",
    "    return theta\n",
    "\n",
    "theta = SGD(x_train, y_train, 50, 0.1)\n",
    "\n",
    "print(theta)\n",
    "\n",
    "preds = x_test @ theta"
   ]
  },
  {
   "cell_type": "code",
   "execution_count": 88,
   "metadata": {},
   "outputs": [],
   "source": [
    "preds = np.rint(preds)"
   ]
  },
  {
   "cell_type": "code",
   "execution_count": 89,
   "metadata": {},
   "outputs": [
    {
     "data": {
      "text/plain": [
       "0.97368421052631582"
      ]
     },
     "execution_count": 89,
     "metadata": {},
     "output_type": "execute_result"
    }
   ],
   "source": [
    "from sklearn.metrics import accuracy_score\n",
    "\n",
    "accuracy_score(y_test, preds)"
   ]
  },
  {
   "cell_type": "code",
   "execution_count": 104,
   "metadata": {},
   "outputs": [
    {
     "name": "stdout",
     "output_type": "stream",
     "text": [
      "[[-0.03292821]\n",
      " [-0.11230663]\n",
      " [ 0.17040324]\n",
      " [ 0.65507335]\n",
      " [ 0.11429235]]\n"
     ]
    }
   ],
   "source": [
    "# def BGD(X, y, n_epoch, eta):\n",
    "#     theta = np.random.rand(X.shape[1], 1)\n",
    "#     m = len(X)\n",
    "#     for i in range(n_epoch):\n",
    "#         theta = np.linalg.inv(eight.T @ eight) @ eight.T @ y\n",
    "#         theta = theta - eta * gradients\n",
    "#     return theta\n",
    "\n",
    "theta_BGD = (np.linalg.inv(x_train.T @ x_train) @ x_train.T @ y_train).reshape((5, 1))\n",
    "\n",
    "# theta_BGD = BGD(x_train, y_train, 50, 0.001)\n",
    "\n",
    "print(theta_BGD)"
   ]
  },
  {
   "cell_type": "code",
   "execution_count": 105,
   "metadata": {},
   "outputs": [
    {
     "data": {
      "text/plain": [
       "0.94736842105263153"
      ]
     },
     "execution_count": 105,
     "metadata": {},
     "output_type": "execute_result"
    }
   ],
   "source": [
    "preds = x_test @ theta_BGD\n",
    "preds = np.rint(preds)\n",
    "accuracy_score(y_test, preds)"
   ]
  },
  {
   "cell_type": "code",
   "execution_count": null,
   "metadata": {},
   "outputs": [],
   "source": []
  }
 ],
 "metadata": {
  "kernelspec": {
   "display_name": "Python 3",
   "language": "python",
   "name": "python3"
  },
  "language_info": {
   "codemirror_mode": {
    "name": "ipython",
    "version": 3
   },
   "file_extension": ".py",
   "mimetype": "text/x-python",
   "name": "python",
   "nbconvert_exporter": "python",
   "pygments_lexer": "ipython3",
   "version": "3.6.3"
  }
 },
 "nbformat": 4,
 "nbformat_minor": 2
}
