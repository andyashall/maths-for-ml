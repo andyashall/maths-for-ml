{
 "cells": [
  {
   "cell_type": "code",
   "execution_count": 1,
   "metadata": {},
   "outputs": [],
   "source": [
    "import numpy as np\n",
    "%matplotlib inline\n",
    "import matplotlib.pyplot as plt"
   ]
  },
  {
   "cell_type": "code",
   "execution_count": 2,
   "metadata": {},
   "outputs": [],
   "source": [
    "X = 2 * np.random.rand(100, 1)\n",
    "y = 4 + 3 * X + np.random.rand(100, 1)"
   ]
  },
  {
   "cell_type": "code",
   "execution_count": 3,
   "metadata": {},
   "outputs": [
    {
     "data": {
      "text/plain": [
       "<matplotlib.collections.PathCollection at 0x10d9eecf8>"
      ]
     },
     "execution_count": 3,
     "metadata": {},
     "output_type": "execute_result"
    },
    {
     "data": {
      "image/png": "[encoded data removed]",
      "text/plain": [
       "<matplotlib.figure.Figure at 0x10c2ddcf8>"
      ]
     },
     "metadata": {},
     "output_type": "display_data"
    }
   ],
   "source": [
    "plt.scatter(X, y)"
   ]
  },
  {
   "cell_type": "code",
   "execution_count": 4,
   "metadata": {},
   "outputs": [],
   "source": [
    "X_b = np.c_[np.ones(X.shape), X]\n",
    "# theta_best = np.linalg.inv(X_b.T @ X_b) @ X_b.T @ y\n",
    "# theta_best"
   ]
  },
  {
   "cell_type": "markdown",
   "metadata": {},
   "source": [
    "$P_{r,c} = \\sum_{k=1}^n{Q_{r,k} \\times R_{k,c}}$\n",
    "\n",
    "where;\n",
    "\n",
    "$P$ = dot\n",
    "\n",
    "$Q$ = X_b.T\n",
    "\n",
    "$R$ = X_b"
   ]
  },
  {
   "cell_type": "code",
   "execution_count": 5,
   "metadata": {},
   "outputs": [],
   "source": [
    "dot = np.zeros((X_b.T.shape[0], X_b.shape[1]))\n",
    "\n",
    "for r in range(dot.shape[0]):\n",
    "    for c in range(dot.shape[1]):\n",
    "        sm = 0\n",
    "        for k in range(X_b.shape[0]):\n",
    "            sm += X_b.T[r,k] * X_b[k,c]\n",
    "        dot[r, c] = sm\n"
   ]
  },
  {
   "cell_type": "code",
   "execution_count": 6,
   "metadata": {},
   "outputs": [
    {
     "data": {
      "text/plain": [
       "array([[ 4.51496335],\n",
       "       [ 2.95322899]])"
      ]
     },
     "execution_count": 6,
     "metadata": {},
     "output_type": "execute_result"
    }
   ],
   "source": [
    "invd = np.linalg.inv(dot)\n",
    "\n",
    "dot2 = np.zeros((invd.shape[0], X_b.T.shape[1]))\n",
    "\n",
    "for r in range(dot2.shape[0]):\n",
    "    for c in range(dot2.shape[1]):\n",
    "        sm = 0\n",
    "        for k in range(X_b.T.shape[0]):\n",
    "            sm += invd[r,k] * X_b.T[k,c]\n",
    "        dot2[r, c] = sm\n",
    "\n",
    "theta_best = np.zeros((dot2.shape[0], y.shape[1]))\n",
    "\n",
    "for r in range(theta_best.shape[0]):\n",
    "    for c in range(theta_best.shape[1]):\n",
    "        sm = 0\n",
    "        for k in range(y.shape[0]):\n",
    "            sm += dot2[r,k] * y[k,c]\n",
    "        theta_best[r, c] = sm\n",
    "        \n",
    "theta_best"
   ]
  },
  {
   "cell_type": "code",
   "execution_count": 7,
   "metadata": {},
   "outputs": [
    {
     "data": {
      "text/plain": [
       "array([[  4.51496335],\n",
       "       [ 10.42142133]])"
      ]
     },
     "execution_count": 7,
     "metadata": {},
     "output_type": "execute_result"
    }
   ],
   "source": [
    "X_new = np.array([[0], [2]])\n",
    "X_new_b = np.c_[np.ones(X_new.shape), X_new]\n",
    "\n",
    "# y_pred = X_new_b @ theta_best\n",
    "\n",
    "y_pred = np.zeros((X_new_b.shape[0], theta_best.shape[1]))\n",
    "\n",
    "for r in range(y_pred.shape[0]):\n",
    "    for c in range(y_pred.shape[1]):\n",
    "        sm = 0\n",
    "        for k in range(theta_best.shape[0]):\n",
    "            sm += X_new_b[r,k] * theta_best[k,c]\n",
    "        y_pred[r, c] = sm\n",
    "\n",
    "y_pred"
   ]
  },
  {
   "cell_type": "code",
   "execution_count": 8,
   "metadata": {},
   "outputs": [
    {
     "data": {
      "image/png": "[encoded data removed]",
      "text/plain": [
       "<matplotlib.figure.Figure at 0x10da7bb38>"
      ]
     },
     "metadata": {},
     "output_type": "display_data"
    }
   ],
   "source": [
    "plt.plot(X_new, y_pred, \"r-\")\n",
    "plt.plot(X, y, \"b.\")\n",
    "plt.show()"
   ]
  },
  {
   "cell_type": "code",
   "execution_count": null,
   "metadata": {},
   "outputs": [],
   "source": []
  }
 ],
 "metadata": {
  "kernelspec": {
   "display_name": "Python 3",
   "language": "python",
   "name": "python3"
  },
  "language_info": {
   "codemirror_mode": {
    "name": "ipython",
    "version": 3
   },
   "file_extension": ".py",
   "mimetype": "text/x-python",
   "name": "python",
   "nbconvert_exporter": "python",
   "pygments_lexer": "ipython3",
   "version": "3.6.3"
  }
 },
 "nbformat": 4,
 "nbformat_minor": 2
}
