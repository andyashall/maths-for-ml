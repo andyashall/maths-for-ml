{
 "cells": [
  {
   "cell_type": "code",
   "execution_count": 1,
   "metadata": {},
   "outputs": [],
   "source": [
    "import numpy as np\n",
    "%matplotlib inline\n",
    "import matplotlib.pyplot as plt"
   ]
  },
  {
   "cell_type": "code",
   "execution_count": 2,
   "metadata": {},
   "outputs": [],
   "source": [
    "X = 2 * np.random.rand(100, 1)\n",
    "y = 7 + 2 * X + np.random.rand(100, 1)"
   ]
  },
  {
   "cell_type": "code",
   "execution_count": 3,
   "metadata": {},
   "outputs": [
    {
     "data": {
      "text/plain": [
       "<matplotlib.collections.PathCollection at 0x10e1faeb8>"
      ]
     },
     "execution_count": 3,
     "metadata": {},
     "output_type": "execute_result"
    },
    {
     "data": {
      "image/png": "[encoded data removed]",
      "text/plain": [
       "<matplotlib.figure.Figure at 0x10cb42128>"
      ]
     },
     "metadata": {},
     "output_type": "display_data"
    }
   ],
   "source": [
    "plt.scatter(X, y)"
   ]
  },
  {
   "cell_type": "code",
   "execution_count": 4,
   "metadata": {},
   "outputs": [],
   "source": [
    "## Normal Equation"
   ]
  },
  {
   "cell_type": "code",
   "execution_count": 5,
   "metadata": {},
   "outputs": [],
   "source": [
    "X_b = np.c_[np.ones(X.shape), X]\n",
    "# theta_best = np.linalg.inv(X_b.T @ X_b) @ X_b.T @ y\n",
    "# theta_best"
   ]
  },
  {
   "cell_type": "markdown",
   "metadata": {},
   "source": [
    "$P_{r,c} = \\sum_{k=1}^n{Q_{r,k} \\times R_{k,c}}$\n",
    "\n",
    "where;\n",
    "\n",
    "$P$ = dot\n",
    "\n",
    "$Q$ = X_b.T\n",
    "\n",
    "$R$ = X_b"
   ]
  },
  {
   "cell_type": "code",
   "execution_count": 7,
   "metadata": {},
   "outputs": [],
   "source": [
    "dot = np.zeros((X_b.T.shape[0], X_b.shape[1]))\n",
    "\n",
    "for r in range(dot.shape[0]):\n",
    "    for c in range(dot.shape[1]):\n",
    "        sm = 0\n",
    "        for k in range(X_b.shape[0]):\n",
    "            sm += X_b.T[r,k] * X_b[k,c]\n",
    "        dot[r, c] = sm\n"
   ]
  },
  {
   "cell_type": "code",
   "execution_count": 8,
   "metadata": {},
   "outputs": [
    {
     "data": {
      "text/plain": [
       "array([[ 7.42593551],\n",
       "       [ 2.04303812]])"
      ]
     },
     "execution_count": 8,
     "metadata": {},
     "output_type": "execute_result"
    }
   ],
   "source": [
    "invd = np.linalg.inv(dot)\n",
    "\n",
    "dot2 = np.zeros((invd.shape[0], X_b.T.shape[1]))\n",
    "\n",
    "for r in range(dot2.shape[0]):\n",
    "    for c in range(dot2.shape[1]):\n",
    "        sm = 0\n",
    "        for k in range(X_b.T.shape[0]):\n",
    "            sm += invd[r,k] * X_b.T[k,c]\n",
    "        dot2[r, c] = sm\n",
    "\n",
    "theta_best = np.zeros((dot2.shape[0], y.shape[1]))\n",
    "\n",
    "for r in range(theta_best.shape[0]):\n",
    "    for c in range(theta_best.shape[1]):\n",
    "        sm = 0\n",
    "        for k in range(y.shape[0]):\n",
    "            sm += dot2[r,k] * y[k,c]\n",
    "        theta_best[r, c] = sm\n",
    "        \n",
    "theta_best"
   ]
  },
  {
   "cell_type": "code",
   "execution_count": 48,
   "metadata": {},
   "outputs": [
    {
     "data": {
      "text/plain": [
       "array([[  7.42788844],\n",
       "       [ 11.52305379]])"
      ]
     },
     "execution_count": 48,
     "metadata": {},
     "output_type": "execute_result"
    }
   ],
   "source": [
    "X_new = np.array([[0], [2]])\n",
    "X_new_b = np.c_[np.ones(X_new.shape), X_new]\n",
    "\n",
    "# y_pred = X_new_b @ theta_best\n",
    "\n",
    "y_pred = np.zeros((X_new_b.shape[0], theta_best.shape[1]))\n",
    "\n",
    "for r in range(y_pred.shape[0]):\n",
    "    for c in range(y_pred.shape[1]):\n",
    "        sm = 0\n",
    "        for k in range(theta_best.shape[0]):\n",
    "            sm += X_new_b[r,k] * theta_best[k,c]\n",
    "        y_pred[r, c] = sm\n",
    "\n",
    "y_pred"
   ]
  },
  {
   "cell_type": "code",
   "execution_count": 38,
   "metadata": {},
   "outputs": [
    {
     "data": {
      "text/plain": [
       "array([[ 7.42593551],\n",
       "       [ 2.04303812]])"
      ]
     },
     "execution_count": 38,
     "metadata": {},
     "output_type": "execute_result"
    }
   ],
   "source": [
    "norm_pred = np.linalg.inv(X_b.T @ X_b) @ X_b.T @ y\n",
    "\n",
    "(np.linalg.inv(X_b.T @ X_b) @ X_b.T) @ y"
   ]
  },
  {
   "cell_type": "markdown",
   "metadata": {},
   "source": [
    "$X = X_b.T @ X_b = \\begin{bmatrix} 100 & 98.85\\\\  98.85 & 129.09 \\end{bmatrix}$\n",
    "\n",
    "$XA = X^{-1} = \\begin{bmatrix} 0.04116289 & -0.03152281\\\\  -0.03152281 & 0.03188688 \\end{bmatrix}$\n",
    "\n",
    "$XB = XA @ X_b.T @ y = \\begin{bmatrix} 7.42593551\\\\ 2.04303812 \\end{bmatrix}$"
   ]
  },
  {
   "cell_type": "code",
   "execution_count": 15,
   "metadata": {},
   "outputs": [
    {
     "name": "stdout",
     "output_type": "stream",
     "text": [
      "weights: \n",
      "[[ 2.04303812]]\n",
      "Intercept: \n",
      "[ 7.42593551]\n"
     ]
    }
   ],
   "source": [
    "from sklearn.linear_model import LinearRegression\n",
    "\n",
    "m = LinearRegression()\n",
    "\n",
    "m.fit(X, y)\n",
    "\n",
    "print('weights: ')\n",
    "print(m.coef_)\n",
    "print('Intercept: ')\n",
    "print(m.intercept_)"
   ]
  },
  {
   "cell_type": "code",
   "execution_count": 49,
   "metadata": {},
   "outputs": [
    {
     "data": {
      "image/png": "[encoded data removed]",
      "text/plain": [
       "<matplotlib.figure.Figure at 0x1060349b0>"
      ]
     },
     "metadata": {},
     "output_type": "display_data"
    }
   ],
   "source": [
    "plt.plot(X_new, y_pred, \"r-\")\n",
    "plt.plot(X, y, \"b.\")\n",
    "plt.show()"
   ]
  },
  {
   "cell_type": "markdown",
   "metadata": {},
   "source": [
    "## Batch Gradient Descent\n",
    "\n",
    "https://machinelearningmastery.com/gentle-introduction-mini-batch-gradient-descent-configure-batch-size/"
   ]
  },
  {
   "cell_type": "code",
   "execution_count": 51,
   "metadata": {},
   "outputs": [],
   "source": [
    "def plot_gradient_descent(theta, eta, theta_path=None):\n",
    "    m = len(X_b)\n",
    "    plt.plot(X, y, \"b.\")\n",
    "    n_iterations = 1000\n",
    "    for iteration in range(n_iterations):\n",
    "        if iteration < 10:\n",
    "            y_predict = X_new_b.dot(theta)\n",
    "            style = \"b-\" if iteration > 0 else \"r--\"\n",
    "            plt.plot(X_new, y_predict, style)\n",
    "        gradients = 2/m * X_b.T.dot(X_b.dot(theta) - y)\n",
    "        theta = theta - eta * gradients\n",
    "        if theta_path is not None:\n",
    "            theta_path.append(theta)\n",
    "    plt.xlabel(\"$x_1$\", fontsize=18)\n",
    "    plt.axis([0, 2, 0, 15])\n",
    "    plt.title(r\"$\\eta = {}$\".format(eta), fontsize=16)"
   ]
  },
  {
   "cell_type": "code",
   "execution_count": null,
   "metadata": {},
   "outputs": [],
   "source": [
    "eta = 0.1\n",
    "n_iter = 1000\n",
    "m = 100\n",
    "\n",
    "theta = np.random.randn(2,1)\n",
    "\n",
    "for i in range(n_iter):\n",
    "    gradients = 2/m * X_b.T @ ((X_b @ theta) - y)\n",
    "    theta = theta - eta * gradients\n",
    "    \n",
    "theta"
   ]
  },
  {
   "cell_type": "code",
   "execution_count": 53,
   "metadata": {},
   "outputs": [
    {
     "data": {
      "image/png": "[encoded data removed]",
      "text/plain": [
       "<matplotlib.figure.Figure at 0x105c206a0>"
      ]
     },
     "metadata": {},
     "output_type": "display_data"
    }
   ],
   "source": [
    "theta_path_bgd = []\n",
    "\n",
    "np.random.seed(29)\n",
    "theta = np.random.randn(2,1)  # random initialization\n",
    "\n",
    "plt.figure(figsize=(14,4))\n",
    "plt.subplot(131); plot_gradient_descent(theta, eta=0.02)\n",
    "plt.ylabel(\"$y$\", rotation=0, fontsize=18)\n",
    "plt.subplot(132); plot_gradient_descent(theta, eta=0.1, theta_path=theta_path_bgd)\n",
    "plt.subplot(133); plot_gradient_descent(theta, eta=0.5)\n",
    "\n",
    "plt.show()"
   ]
  },
  {
   "cell_type": "code",
   "execution_count": 54,
   "metadata": {},
   "outputs": [],
   "source": [
    "## Stochastic Gradient Descent"
   ]
  },
  {
   "cell_type": "code",
   "execution_count": 74,
   "metadata": {},
   "outputs": [
    {
     "name": "stdout",
     "output_type": "stream",
     "text": [
      "(2, 1)\n"
     ]
    },
    {
     "data": {
      "text/plain": [
       "array([[ 7.26771064],\n",
       "       [ 2.17968652]])"
      ]
     },
     "execution_count": 74,
     "metadata": {},
     "output_type": "execute_result"
    }
   ],
   "source": [
    "n_epoch = 50\n",
    "m = len(X_b)\n",
    "t0, t1 = 5, 50\n",
    "\n",
    "def learning_schedule(t):\n",
    "    return t0 / (t + t1)\n",
    "\n",
    "theta = np.random.randn(2,1)\n",
    "\n",
    "for epoch in range(n_epoch):\n",
    "    for i in range(m):\n",
    "        randi = np.random.randint(m)\n",
    "        xi = X_b[randi:randi+1]\n",
    "        yi = y[randi:randi+1]\n",
    "        gradients = xi.T @ ((xi @ theta) - yi) # what is this calculation?\n",
    "#         print(gradients)\n",
    "#         gradients = (xi @ theta) - yi\n",
    "#         print(f'grad: {gradients}')\n",
    "#         print(f'yi:   {yi}')\n",
    "#         print(f'pred: {xi @ theta}')\n",
    "#         print(f'diff: {yi - (xi @ theta)}\\n')\n",
    "        eta = learning_schedule(epoch * m + i)\n",
    "#         print(f'{theta} - {eta} * {gradients}\\n')\n",
    "        theta = theta - eta * gradients\n",
    "\n",
    "theta\n",
    "\n",
    "def BGD(X, y, eta, n_epoch):\n",
    "    theta = np.random.rand(X.shape[1], 1)\n",
    "    m = len(X)\n",
    "    for i in range(n_epoch):\n",
    "        gradients = 2/m * (X.T @ ((X @ theta) - y))\n",
    "        theta = theta - eta * gradients\n",
    "    print(theta.shape)\n",
    "    return np.mean(theta, axis=1).reshape(X.shape[1], 1)\n",
    "\n",
    "def SGD(X, y, eta, n_epoch):\n",
    "    theta = np.random.rand(X.shape[1], 1)\n",
    "    m = X.shape[0]\n",
    "    for epoch in range(n_epoch):\n",
    "        for i in range(m):\n",
    "            ri = np.random.randint(m)\n",
    "            guess = X[ri:ri+1] @ theta\n",
    "            diff = guess - y[ri:ri+1]\n",
    "            grad = X[ri:ri+1].T @ diff\n",
    "            theta = theta - grad * eta\n",
    "#     print(X[ri:ri+1].T)\n",
    "#     print(diff)\n",
    "#     print(grad)\n",
    "    print(theta)\n",
    "    \n",
    "BGD(np.c_[np.ones((X.shape[0], 1)), X], y, 0.1, 100)\n",
    "\n"
   ]
  },
  {
   "cell_type": "code",
   "execution_count": 59,
   "metadata": {},
   "outputs": [
    {
     "data": {
      "text/plain": [
       "array([[ 11.58758767]])"
      ]
     },
     "execution_count": 59,
     "metadata": {},
     "output_type": "execute_result"
    }
   ],
   "source": [
    "X_new = np.array([[2]])\n",
    "X_new_b = np.c_[np.ones(X_new.shape), X_new]\n",
    "\n",
    "y_pred = X_new_b @ theta\n",
    "\n",
    "y_pred # the sum of x_new_b[0] * theta[0,0] * theta[1,0]\n",
    "\n",
    "pred = np.zeros((X_new_b.shape[0], theta.shape[1]))\n",
    "\n",
    "for r in range(pred.shape[0]):\n",
    "    for c in range(pred.shape[1]):\n",
    "        sm = 0\n",
    "        for k in range(theta.shape[0]):\n",
    "            sm += X_new_b[r,k] * theta[k,c]\n",
    "        pred[r, c] = sm\n",
    "\n",
    "pred"
   ]
  },
  {
   "cell_type": "code",
   "execution_count": 60,
   "metadata": {},
   "outputs": [
    {
     "name": "stdout",
     "output_type": "stream",
     "text": [
      "[[ 1.  2.]]\n",
      "[[ 0.]]\n",
      "[[ 7.33095307]\n",
      " [ 2.1283173 ]]\n",
      "\n",
      "Prediction = 1.0 x 7.330953069696836 + 2.0 * 2.128317298072203\n"
     ]
    },
    {
     "data": {
      "text/plain": [
       "array([[ 11.58758767]])"
      ]
     },
     "execution_count": 60,
     "metadata": {},
     "output_type": "execute_result"
    }
   ],
   "source": [
    "print(X_new_b)\n",
    "\n",
    "pred = np.zeros((X_new_b.shape[0], theta.shape[1]))\n",
    "\n",
    "print(pred)\n",
    "\n",
    "pred[0,0] = X_new_b[0,0] * theta[0,0] + X_new_b[0,1] *theta[1,0]\n",
    "\n",
    "print(f'{theta}\\n')\n",
    "\n",
    "print(f'Prediction = {X_new_b[0,0]} x {theta[0,0]} + {X_new_b[0,1]} * {theta[1,0]}')\n",
    "\n",
    "pred"
   ]
  },
  {
   "cell_type": "markdown",
   "metadata": {},
   "source": [
    "$y = a+bX$\n",
    "\n",
    "where:\n",
    "\n",
    "$a$ = 7.362627012002335 = theta[0,0]\n",
    "\n",
    "$b$ = 2.106024281546152 = theta[1,0]"
   ]
  },
  {
   "cell_type": "code",
   "execution_count": 86,
   "metadata": {},
   "outputs": [
    {
     "name": "stdout",
     "output_type": "stream",
     "text": [
      "xi transposed\n",
      "[[ 1.        ]\n",
      " [ 1.32666913]]\n",
      "\n",
      "\n",
      "xi\n",
      "[[ 1.          1.32666913]]\n",
      "\n",
      "\n",
      "theta\n",
      "[[ 0.08115615]\n",
      " [-0.0101643 ]]\n",
      "\n",
      "\n",
      "xi @ theta: this is the prediction using the current theta\n",
      "[[ 0.06767149]]\n",
      "\n",
      "\n",
      "xi.T @ (xi @ theta)\n",
      "[[ 0.06767149]\n",
      " [ 0.08977768]]\n",
      "\n",
      "\n",
      "yi\n",
      "[[ 1.          1.32666913]]\n",
      "\n",
      "\n",
      "gradients = xi.T @ ((xi @ theta) - yi): this is the difference of predicted to actual\n",
      "[[-0.93232851 -1.25899764]\n",
      " [-1.23689145 -1.67027331]]\n",
      "\n",
      "\n",
      "eta * gradients: this is the scalar to multiplied by the differece\n",
      "[[-0.00932329 -0.01258998]\n",
      " [-0.01236891 -0.01670273]]\n",
      "\n",
      "\n",
      "theta = theta - eta * gradients: this is the new theta\n",
      "[[ 0.09047944  0.09374613]\n",
      " [ 0.00220462  0.00653844]]\n"
     ]
    }
   ],
   "source": [
    "xi = X_b[10:11]\n",
    "yi = X_b[10:11]\n",
    "eta = 0.01\n",
    "\n",
    "theta = np.random.randn(2,1)\n",
    "\n",
    "print('xi transposed')\n",
    "print(xi.T)\n",
    "print('\\n')\n",
    "\n",
    "print('xi')\n",
    "print(xi)\n",
    "print('\\n')\n",
    "\n",
    "print('theta')\n",
    "print(theta)\n",
    "print('\\n')\n",
    "\n",
    "print('xi @ theta: this is the prediction using the current theta')\n",
    "print(xi @ theta)\n",
    "print('\\n')\n",
    "\n",
    "print('xi.T @ (xi @ theta)')\n",
    "print(xi.T @ (xi @ theta))\n",
    "print('\\n')\n",
    "\n",
    "print('yi')\n",
    "print(yi)\n",
    "print('\\n')\n",
    "\n",
    "gradients = xi.T @ ((xi @ theta) - yi)\n",
    "\n",
    "print('gradients = xi.T @ ((xi @ theta) - yi): this is the difference of predicted to actual')\n",
    "print(xi.T @ ((xi @ theta) - yi))\n",
    "print('\\n')\n",
    "\n",
    "print('eta * gradients: this is the scalar to multiplied by the differece')\n",
    "print(eta * gradients)\n",
    "print('\\n')\n",
    "\n",
    "print('theta = theta - eta * gradients: this is the new theta')\n",
    "print(theta - eta * gradients)\n"
   ]
  },
  {
   "cell_type": "code",
   "execution_count": null,
   "metadata": {},
   "outputs": [],
   "source": []
  }
 ],
 "metadata": {
  "kernelspec": {
   "display_name": "Python 3",
   "language": "python",
   "name": "python3"
  },
  "language_info": {
   "codemirror_mode": {
    "name": "ipython",
    "version": 3
   },
   "file_extension": ".py",
   "mimetype": "text/x-python",
   "name": "python",
   "nbconvert_exporter": "python",
   "pygments_lexer": "ipython3",
   "version": "3.6.3"
  }
 },
 "nbformat": 4,
 "nbformat_minor": 2
}
