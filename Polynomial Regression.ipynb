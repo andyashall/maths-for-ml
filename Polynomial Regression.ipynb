{
 "cells": [
  {
   "cell_type": "code",
   "execution_count": 1,
   "metadata": {},
   "outputs": [],
   "source": [
    "import numpy as np\n",
    "%matplotlib inline\n",
    "import matplotlib\n",
    "import matplotlib.pyplot as plt"
   ]
  },
  {
   "cell_type": "code",
   "execution_count": 3,
   "metadata": {},
   "outputs": [],
   "source": [
    "m = 100\n",
    "x = 6 * np.random.rand(m, 1) -3\n",
    "y = .5 * x**2 + x + 2 + np.random.randn(m, 1)"
   ]
  },
  {
   "cell_type": "code",
   "execution_count": 4,
   "metadata": {},
   "outputs": [
    {
     "data": {
      "text/plain": [
       "<matplotlib.collections.PathCollection at 0x1087edcc0>"
      ]
     },
     "execution_count": 4,
     "metadata": {},
     "output_type": "execute_result"
    },
    {
     "data": {
      "image/png": "[encoded data removed]",
      "text/plain": [
       "<matplotlib.figure.Figure at 0x1070d7b00>"
      ]
     },
     "metadata": {},
     "output_type": "display_data"
    }
   ],
   "source": [
    "plt.scatter(x, y)"
   ]
  },
  {
   "cell_type": "code",
   "execution_count": 6,
   "metadata": {},
   "outputs": [
    {
     "data": {
      "text/plain": [
       "array([[ -7.96453044e-01,   6.34337452e-01],\n",
       "       [ -1.94905799e+00,   3.79882706e+00],\n",
       "       [ -7.98428508e-01,   6.37488083e-01],\n",
       "       [ -2.89552339e+00,   8.38405569e+00],\n",
       "       [  1.02685237e+00,   1.05442579e+00],\n",
       "       [  1.09526080e+00,   1.19959622e+00],\n",
       "       [ -2.42085166e+00,   5.86052275e+00],\n",
       "       [  1.40296824e+00,   1.96831988e+00],\n",
       "       [  1.07894115e-01,   1.16411402e-02],\n",
       "       [ -2.96404748e+00,   8.78557749e+00],\n",
       "       [ -7.29145814e-01,   5.31653618e-01],\n",
       "       [  2.96119194e+00,   8.76865770e+00],\n",
       "       [ -2.63225731e+00,   6.92877856e+00],\n",
       "       [ -2.13179446e+00,   4.54454761e+00],\n",
       "       [  2.61735681e+00,   6.85055669e+00],\n",
       "       [  1.96140432e+00,   3.84710692e+00],\n",
       "       [ -6.51424585e-01,   4.24353990e-01],\n",
       "       [ -2.78426409e+00,   7.75212654e+00],\n",
       "       [  2.80728909e+00,   7.88087203e+00],\n",
       "       [  2.11330478e+00,   4.46605709e+00],\n",
       "       [  1.37185473e+00,   1.88198540e+00],\n",
       "       [  1.75601171e+00,   3.08357714e+00],\n",
       "       [ -2.44454405e+00,   5.97579563e+00],\n",
       "       [  8.82911480e-01,   7.79532682e-01],\n",
       "       [ -2.12883041e+00,   4.53191893e+00],\n",
       "       [  1.69913612e+00,   2.88706355e+00],\n",
       "       [  1.36227681e+00,   1.85579810e+00],\n",
       "       [ -3.26513713e-01,   1.06611205e-01],\n",
       "       [ -2.73682190e+00,   7.49019410e+00],\n",
       "       [ -1.37516979e-01,   1.89109196e-02],\n",
       "       [ -9.98788653e-01,   9.97578774e-01],\n",
       "       [ -1.56595012e+00,   2.45219977e+00],\n",
       "       [ -2.95694913e+00,   8.74354818e+00],\n",
       "       [  2.23435222e+00,   4.99232985e+00],\n",
       "       [  1.33265977e+00,   1.77598207e+00],\n",
       "       [  1.44067441e+00,   2.07554277e+00],\n",
       "       [  5.34897879e-01,   2.86115741e-01],\n",
       "       [ -2.79855808e+00,   7.83192733e+00],\n",
       "       [  9.79117156e-01,   9.58670405e-01],\n",
       "       [  7.03824402e-01,   4.95368789e-01],\n",
       "       [ -1.86584692e+00,   3.48138471e+00],\n",
       "       [ -3.51090525e-01,   1.23264557e-01],\n",
       "       [  1.25594582e+00,   1.57739991e+00],\n",
       "       [ -4.76482704e-01,   2.27035767e-01],\n",
       "       [ -2.82590428e-01,   7.98573501e-02],\n",
       "       [ -1.82231938e+00,   3.32084790e+00],\n",
       "       [  1.33323075e+00,   1.77750424e+00],\n",
       "       [  2.92314034e+00,   8.54474944e+00],\n",
       "       [ -2.64336528e+00,   6.98738002e+00],\n",
       "       [  1.36583115e+00,   1.86549473e+00],\n",
       "       [  2.11374712e+00,   4.46792691e+00],\n",
       "       [ -2.11097683e+00,   4.45622319e+00],\n",
       "       [ -2.74024538e+00,   7.50894472e+00],\n",
       "       [ -1.65599859e+00,   2.74233134e+00],\n",
       "       [ -2.75594957e-01,   7.59525801e-02],\n",
       "       [  1.45904917e+00,   2.12882449e+00],\n",
       "       [ -1.72791893e+00,   2.98570383e+00],\n",
       "       [  1.53830038e+00,   2.36636805e+00],\n",
       "       [  2.41618058e+00,   5.83792861e+00],\n",
       "       [  6.63356928e-01,   4.40042413e-01],\n",
       "       [ -9.36780357e-02,   8.77557437e-03],\n",
       "       [  2.06875251e+00,   4.27973695e+00],\n",
       "       [ -2.84801972e+00,   8.11121633e+00],\n",
       "       [ -2.16254594e+00,   4.67660492e+00],\n",
       "       [  2.80335097e+00,   7.85877666e+00],\n",
       "       [ -1.47553504e+00,   2.17720365e+00],\n",
       "       [  2.32275491e+00,   5.39519036e+00],\n",
       "       [  2.92828906e+00,   8.57487683e+00],\n",
       "       [  4.57979372e-01,   2.09745106e-01],\n",
       "       [ -1.10084646e+00,   1.21186293e+00],\n",
       "       [  1.65207048e+00,   2.72933686e+00],\n",
       "       [ -1.29687282e+00,   1.68187912e+00],\n",
       "       [ -2.22468829e+00,   4.94923800e+00],\n",
       "       [ -2.60861903e+00,   6.80489323e+00],\n",
       "       [ -1.95230562e+00,   3.81149722e+00],\n",
       "       [  3.62522226e-01,   1.31422364e-01],\n",
       "       [ -5.24407465e-01,   2.75003189e-01],\n",
       "       [ -3.35342795e-01,   1.12454790e-01],\n",
       "       [  1.22947765e+00,   1.51161530e+00],\n",
       "       [  6.86980965e-01,   4.71942846e-01],\n",
       "       [  2.72806905e+00,   7.44236073e+00],\n",
       "       [ -1.98093678e+00,   3.92411052e+00],\n",
       "       [  2.49894647e+00,   6.24473345e+00],\n",
       "       [ -1.40110231e+00,   1.96308769e+00],\n",
       "       [ -4.00428995e-01,   1.60343380e-01],\n",
       "       [  3.38198736e-02,   1.14378385e-03],\n",
       "       [ -1.31477170e+00,   1.72862462e+00],\n",
       "       [  5.89993524e-02,   3.48092359e-03],\n",
       "       [ -4.93521381e-01,   2.43563353e-01],\n",
       "       [ -2.05536504e+00,   4.22452543e+00],\n",
       "       [ -1.77127937e+00,   3.13743062e+00],\n",
       "       [  1.63967022e+00,   2.68851842e+00],\n",
       "       [  2.31021828e+00,   5.33710852e+00],\n",
       "       [  5.32143736e-01,   2.83176956e-01],\n",
       "       [  1.87314207e+00,   3.50866123e+00],\n",
       "       [ -8.02334930e-01,   6.43741339e-01],\n",
       "       [  2.49860869e+00,   6.24304536e+00],\n",
       "       [  2.75653925e+00,   7.59850866e+00],\n",
       "       [  7.37804882e-01,   5.44356044e-01],\n",
       "       [  1.62274261e+00,   2.63329357e+00]])"
      ]
     },
     "execution_count": 6,
     "metadata": {},
     "output_type": "execute_result"
    }
   ],
   "source": [
    "x_n = np.c_[x, x**2]\n",
    "x_n"
   ]
  },
  {
   "cell_type": "code",
   "execution_count": 7,
   "metadata": {},
   "outputs": [],
   "source": [
    "theta_b = np.linalg.inv(x_n.T @ x_n) @ x_n.T @ y"
   ]
  },
  {
   "cell_type": "code",
   "execution_count": 11,
   "metadata": {},
   "outputs": [
    {
     "data": {
      "image/png": "[encoded data removed]",
      "text/plain": [
       "<matplotlib.figure.Figure at 0x1089e34e0>"
      ]
     },
     "metadata": {},
     "output_type": "display_data"
    }
   ],
   "source": [
    "plt.plot(x, y, 'b.')\n",
    "t = np.array([[-3],[3]])\n",
    "\n",
    "# Need to add intercespt point\n",
    "\n",
    "plt.plot(t, np.c_[t, t**2] @ theta_b, 'r-')\n",
    "plt.show()"
   ]
  },
  {
   "cell_type": "code",
   "execution_count": null,
   "metadata": {},
   "outputs": [],
   "source": []
  }
 ],
 "metadata": {
  "kernelspec": {
   "display_name": "Python 3",
   "language": "python",
   "name": "python3"
  },
  "language_info": {
   "codemirror_mode": {
    "name": "ipython",
    "version": 3
   },
   "file_extension": ".py",
   "mimetype": "text/x-python",
   "name": "python",
   "nbconvert_exporter": "python",
   "pygments_lexer": "ipython3",
   "version": "3.6.3"
  }
 },
 "nbformat": 4,
 "nbformat_minor": 2
}
