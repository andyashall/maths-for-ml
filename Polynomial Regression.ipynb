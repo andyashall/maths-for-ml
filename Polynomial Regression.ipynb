{
 "cells": [
  {
   "cell_type": "code",
   "execution_count": 241,
   "metadata": {},
   "outputs": [],
   "source": [
    "import numpy as np\n",
    "%matplotlib inline\n",
    "import matplotlib\n",
    "import matplotlib.pyplot as plt"
   ]
  },
  {
   "cell_type": "code",
   "execution_count": 242,
   "metadata": {},
   "outputs": [],
   "source": [
    "m = 100\n",
    "x = 6 * np.random.rand(m, 1) -3\n",
    "y = .5 * x**2 + x + 2 + np.random.randn(m, 1) *.8"
   ]
  },
  {
   "cell_type": "code",
   "execution_count": 243,
   "metadata": {},
   "outputs": [
    {
     "data": {
      "text/plain": [
       "<matplotlib.collections.PathCollection at 0x116021c50>"
      ]
     },
     "execution_count": 243,
     "metadata": {},
     "output_type": "execute_result"
    },
    {
     "data": {
      "image/png": "[encoded data removed]",
      "text/plain": [
       "<matplotlib.figure.Figure at 0x105a20ef0>"
      ]
     },
     "metadata": {},
     "output_type": "display_data"
    }
   ],
   "source": [
    "plt.scatter(x, y)"
   ]
  },
  {
   "cell_type": "code",
   "execution_count": 377,
   "metadata": {},
   "outputs": [
    {
     "name": "stdout",
     "output_type": "stream",
     "text": [
      "[-0.36266708]\n",
      "[ 1.         -0.36266708  0.13152741]\n",
      "[  1.00000000e+00  -3.62667080e-01   1.31527411e-01  -4.77006621e-02\n",
      "   1.72994598e-02  -6.27394458e-03   2.27535316e-03  -8.25195687e-04\n",
      "   2.99271310e-04]\n"
     ]
    }
   ],
   "source": [
    "#  2 degree = [x, x**2, 1]\n",
    "x_n = np.c_[x, x**2, np.ones(x.shape[0])]\n",
    "#  8 degree = [x, x**2, x**3, x**4, x**5, x**6, x**7, x**8, 1]\n",
    "\n",
    "def polynom(m, deg):\n",
    "    nm = np.zeros((m.shape[0], deg+1))\n",
    "    for j in range(0, deg+1):\n",
    "        for i in range(0, m.shape[0]):\n",
    "            nm[i][j] = m[i]**j\n",
    "    return nm\n",
    "\n",
    "four = polynom(x, 2)\n",
    "eight = polynom(x, 8)\n",
    "print(x[0])\n",
    "print(four[0])\n",
    "\n",
    "x_n_eight = np.c_[x, x**2, x**3, x**4, x**5, x**6, x**7, x**8, np.ones(x.shape[0])]\n",
    "\n",
    "print(eight[0].ravel())"
   ]
  },
  {
   "cell_type": "code",
   "execution_count": 339,
   "metadata": {},
   "outputs": [
    {
     "name": "stdout",
     "output_type": "stream",
     "text": [
      "[ -3.62667080e-01   1.31527411e-01  -4.77006621e-02   1.72994598e-02\n",
      "  -6.27394458e-03   2.27535316e-03  -8.25195687e-04   2.99271310e-04]\n",
      "[ -3.62667080e-01   1.31527411e-01  -4.77006621e-02   1.72994598e-02\n",
      "  -6.27394458e-03   2.27535316e-03  -8.25195687e-04   2.99271310e-04\n",
      "   1.00000000e+00]\n"
     ]
    }
   ],
   "source": [
    "from sklearn.preprocessing import PolynomialFeatures\n",
    "poly_features = PolynomialFeatures(degree=8, include_bias=False)\n",
    "X_poly = poly_features.fit_transform(x)\n",
    "print(X_poly[0])\n",
    "print(x_n_eight[0])"
   ]
  },
  {
   "cell_type": "code",
   "execution_count": 386,
   "metadata": {},
   "outputs": [
    {
     "name": "stdout",
     "output_type": "stream",
     "text": [
      "theta: [[ nan]\n",
      " [ nan]\n",
      " [ nan]\n",
      " [ nan]\n",
      " [ nan]\n",
      " [ nan]\n",
      " [ nan]\n",
      " [ nan]\n",
      " [ nan]]\n",
      "\n"
     ]
    }
   ],
   "source": [
    "theta = np.random.rand(eight.shape[1], 1)\n",
    "\n",
    "eta = 0.01\n",
    "n_epoch = 50\n",
    "m = len(eight)\n",
    "t0, t1 = 5, 50\n",
    "\n",
    "def learning_schedule(t):\n",
    "    return t0 / (t + t1)\n",
    "\n",
    "steps = 0\n",
    "\n",
    "for epoch in range(n_epoch):\n",
    "    for n in range(m):\n",
    "        rand = np.random.randint(0,m-1)\n",
    "        xi, yi = eight[rand:rand+1], y[rand:rand+1]\n",
    "        grad = xi.T @ ((xi @ theta) - yi)\n",
    "        eta = learning_schedule(epoch * m + n)\n",
    "        theta = theta - eta*grad\n",
    "        steps +=1\n",
    "    \n",
    "# print(f'steps: {steps}\\n')\n",
    "\n",
    "print(f'theta: {theta}\\n')\n",
    "\n",
    "# print(theta_b)"
   ]
  },
  {
   "cell_type": "code",
   "execution_count": 378,
   "metadata": {},
   "outputs": [
    {
     "data": {
      "text/plain": [
       "array([[ 2.23692458],\n",
       "       [ 1.30540741],\n",
       "       [-0.1867548 ],\n",
       "       [-0.51191217],\n",
       "       [ 0.37375552],\n",
       "       [ 0.14771251],\n",
       "       [-0.05953323],\n",
       "       [-0.01138658],\n",
       "       [ 0.00265621]])"
      ]
     },
     "execution_count": 378,
     "metadata": {},
     "output_type": "execute_result"
    }
   ],
   "source": [
    "theta_b = np.linalg.inv(eight.T @ eight) @ eight.T @ y\n",
    "theta_b"
   ]
  },
  {
   "cell_type": "code",
   "execution_count": 393,
   "metadata": {},
   "outputs": [
    {
     "name": "stdout",
     "output_type": "stream",
     "text": [
      "theta: [[ nan]\n",
      " [ nan]\n",
      " [ nan]\n",
      " [ nan]\n",
      " [ nan]\n",
      " [ nan]\n",
      " [ nan]\n",
      " [ nan]\n",
      " [ nan]]\n",
      "\n"
     ]
    },
    {
     "name": "stderr",
     "output_type": "stream",
     "text": [
      "/Users/kkgh070/anaconda3/envs/porto/lib/python3.6/site-packages/ipykernel_launcher.py:22: RuntimeWarning: invalid value encountered in subtract\n"
     ]
    }
   ],
   "source": [
    "batch_size = 1\n",
    "theta = np.random.rand(four.shape[1], 1)\n",
    "\n",
    "# print(theta)\n",
    "\n",
    "eta = .1\n",
    "n_epoch = 50\n",
    "m = len(four)\n",
    "t0, t1 = 5, 50\n",
    "\n",
    "def learning_schedule(t):\n",
    "    return t0 / (t + t1)\n",
    "\n",
    "def gradient_descent(X, y, n_epoch, eta):\n",
    "    theta = np.random.rand(X.shape[1], 1)\n",
    "    for epoch in range(n_epoch):\n",
    "        for n in range(len(X)):\n",
    "            rand = np.random.randint(0,m-1)\n",
    "            xi, yi = X[rand:rand+1], y[rand:rand+1]\n",
    "            grad = xi.T @ ((xi @ theta) - yi)\n",
    "            eta = learning_schedule(epoch * m + n)\n",
    "            theta = theta - grad * eta\n",
    "    return theta\n",
    "\n",
    "steps = 0\n",
    "\n",
    "theta = gradient_descent(eight, y, 50, 0.1)\n",
    "\n",
    "# for epoch in range(n_epoch):\n",
    "#     for n in range(m):\n",
    "#         rand = np.random.randint(0,m-1)\n",
    "#         xi, yi = four[rand:rand+1], y[rand:rand+1]\n",
    "#         grad = xi.T @ ((xi @ theta) - yi)\n",
    "#         eta = learning_schedule(epoch * m + n)\n",
    "#         theta = theta - grad * eta\n",
    "#         steps +=1\n",
    "    \n",
    "# print(f'steps: {steps}\\n')\n",
    "\n",
    "print(f'theta: {theta}\\n')\n",
    "\n",
    "# print(theta_b)"
   ]
  },
  {
   "cell_type": "code",
   "execution_count": 379,
   "metadata": {},
   "outputs": [
    {
     "data": {
      "image/png": "[encoded data removed]",
      "text/plain": [
       "<matplotlib.figure.Figure at 0x110a74438>"
      ]
     },
     "metadata": {},
     "output_type": "display_data"
    }
   ],
   "source": [
    "plt.plot(x, y, 'b.')\n",
    "t = np.linspace(-3, 3, 100).reshape(100, 1)\n",
    "\n",
    "# Need to add intercespt point\n",
    "\n",
    "plt.plot(t, polynom(t, 8) @ theta_b, 'r-', label='8 deg')\n",
    "plt.plot(t, polynom(t, 2) @ theta, 'g-', label='2 deg')\n",
    "plt.legend(loc=\"upper left\", fontsize=14)\n",
    "plt.show()"
   ]
  },
  {
   "cell_type": "code",
   "execution_count": 381,
   "metadata": {},
   "outputs": [
    {
     "name": "stderr",
     "output_type": "stream",
     "text": [
      "/Users/kkgh070/anaconda3/envs/porto/lib/python3.6/site-packages/sklearn/linear_model/stochastic_gradient.py:84: FutureWarning: max_iter and tol parameters have been added in <class 'sklearn.linear_model.stochastic_gradient.SGDRegressor'> in 0.19. If both are left unset, they default to max_iter=5 and tol=None. If tol is not None, max_iter defaults to max_iter=1000. From 0.21, default max_iter will be 1000, and default tol will be 1e-3.\n",
      "  \"and default tol will be 1e-3.\" % type(self), FutureWarning)\n"
     ]
    },
    {
     "data": {
      "image/png": "[encoded data removed]",
      "text/plain": [
       "<matplotlib.figure.Figure at 0x11134d3c8>"
      ]
     },
     "metadata": {},
     "output_type": "display_data"
    }
   ],
   "source": [
    "from sklearn.linear_model import SGDRegressor\n",
    "sgd_reg = SGDRegressor()\n",
    "lin_reg.fit(eight, y)\n",
    "\n",
    "X_new=np.linspace(-3, 3, 100).reshape(100, 1)\n",
    "X_new_poly = poly_features.transform(X_new)\n",
    "y_new = lin_reg.predict(polynom(X_new, 8))\n",
    "plt.plot(x, y, \"b.\")\n",
    "plt.plot(X_new, y_new, \"r-\", linewidth=2, label=\"Predictions\")\n",
    "plt.show()"
   ]
  },
  {
   "cell_type": "code",
   "execution_count": null,
   "metadata": {},
   "outputs": [],
   "source": []
  }
 ],
 "metadata": {
  "kernelspec": {
   "display_name": "Python 3",
   "language": "python",
   "name": "python3"
  },
  "language_info": {
   "codemirror_mode": {
    "name": "ipython",
    "version": 3
   },
   "file_extension": ".py",
   "mimetype": "text/x-python",
   "name": "python",
   "nbconvert_exporter": "python",
   "pygments_lexer": "ipython3",
   "version": "3.6.3"
  }
 },
 "nbformat": 4,
 "nbformat_minor": 2
}
