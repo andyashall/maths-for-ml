{
 "cells": [
  {
   "cell_type": "code",
   "execution_count": 68,
   "metadata": {},
   "outputs": [],
   "source": [
    "import numpy as np"
   ]
  },
  {
   "cell_type": "code",
   "execution_count": 69,
   "metadata": {},
   "outputs": [],
   "source": [
    "x = 2 * np.random.rand(100, 1)\n",
    "y = 8 + 4 * x + np.random.rand(100, 1)"
   ]
  },
  {
   "cell_type": "code",
   "execution_count": 70,
   "metadata": {},
   "outputs": [
    {
     "data": {
      "text/plain": [
       "<matplotlib.collections.PathCollection at 0x10ea94278>"
      ]
     },
     "execution_count": 70,
     "metadata": {},
     "output_type": "execute_result"
    },
    {
     "data": {
      "image/png": "[encoded data removed]",
      "text/plain": [
       "<matplotlib.figure.Figure at 0x10eb8df98>"
      ]
     },
     "metadata": {},
     "output_type": "display_data"
    }
   ],
   "source": [
    "%matplotlib inline\n",
    "import matplotlib\n",
    "import matplotlib.pyplot as plt\n",
    "\n",
    "plt.scatter(x, y)"
   ]
  },
  {
   "cell_type": "code",
   "execution_count": null,
   "metadata": {},
   "outputs": [],
   "source": []
  },
  {
   "cell_type": "code",
   "execution_count": 157,
   "metadata": {},
   "outputs": [
    {
     "name": "stdout",
     "output_type": "stream",
     "text": [
      "theta best: [[ 8.50030097]\n",
      " [ 3.97353203]]\n",
      "\n",
      "steps: 10000\n",
      "\n",
      "theta: [[ 8.47971155]\n",
      " [ 3.98536395]]\n"
     ]
    }
   ],
   "source": [
    "theta = np.random.rand(2, 1)\n",
    "\n",
    "x_n = np.c_[np.ones(x.shape), x]\n",
    "\n",
    "# Batch\n",
    "theta_b = np.linalg.inv(x_n.T @ x_n) @ x_n.T @ y\n",
    "\n",
    "print(f'theta best: {theta_b}\\n')\n",
    "\n",
    "eta = .1\n",
    "n_epoch = 100\n",
    "batch_size = 10\n",
    "m = len(x_n)\n",
    "t0, t1 = 5, 50\n",
    "\n",
    "def learning_schedule(t):\n",
    "    return t0 / (t + t1)\n",
    "\n",
    "diff = np.array([[1],[1]])\n",
    "steps = 0\n",
    "ep = 0\n",
    "for epoch in range(n_epoch):\n",
    "    for n in range(m):\n",
    "#       Mini batch\n",
    "        rand = np.random.randint(0,89)\n",
    "        xi, yi = x_n[rand:rand+batch_size], y[rand:rand+batch_size]\n",
    "#       Stochastic\n",
    "#         rand = np.random.randint(0,99)\n",
    "#         xi, yi = x_n[rand:rand+1], y[rand:rand+1]\n",
    "        diff = xi.T @ ((xi @ theta) - yi)\n",
    "    #     print(f'theta:           {theta}')\n",
    "    #     print(f'xi.T:            {xi.T}')\n",
    "    #     print(f'xi @ theta:      {xi @ theta}')\n",
    "    #     print(f'xi @ theta - yi: {(xi @ theta) - yi}')\n",
    "        eta = learning_schedule(epoch * m + n)\n",
    "        theta = theta - diff * eta\n",
    "        steps +=1\n",
    "    \n",
    "print(f'steps: {steps}\\n')\n",
    "\n",
    "print(f'theta: {theta}')"
   ]
  },
  {
   "cell_type": "code",
   "execution_count": 156,
   "metadata": {},
   "outputs": [
    {
     "data": {
      "image/png": "[encoded data removed]",
      "text/plain": [
       "<matplotlib.figure.Figure at 0x10e900b70>"
      ]
     },
     "metadata": {},
     "output_type": "display_data"
    }
   ],
   "source": [
    "t = np.array([[0],[2]])\n",
    "o = np.array([[0]])\n",
    "\n",
    "np.c_[np.ones(t.shape), t] @ theta\n",
    "\n",
    "plt.plot(x, y, \"b.\")\n",
    "plt.plot(t, np.c_[np.ones(t.shape), t] @ theta, \"r-\")\n",
    "plt.show()"
   ]
  },
  {
   "cell_type": "code",
   "execution_count": 164,
   "metadata": {},
   "outputs": [
    {
     "data": {
      "text/plain": [
       "[0.10451892082663783,\n",
       " 0.07956227098610569,\n",
       " 0.5378659485117161,\n",
       " 0.7445318741180023,\n",
       " 0.8572510341330988,\n",
       " 0.5754207437019817,\n",
       " 0.336007086050613,\n",
       " 0.5558974319336384,\n",
       " 0.20736569813637973,\n",
       " 0.034031662122907536,\n",
       " 0.6938189498348027,\n",
       " 0.4323088736359392,\n",
       " 0.06412285199362444,\n",
       " 0.1496773243825995,\n",
       " 0.2448578796920311,\n",
       " 0.2936687289994986,\n",
       " 0.4213580884304383,\n",
       " 0.19477409916101818,\n",
       " 0.6741599808291736,\n",
       " 0.01818618329397148,\n",
       " 0.23943681218543955,\n",
       " 0.22265505517803819,\n",
       " 0.42112516465066085,\n",
       " 0.05894928580782355,\n",
       " 0.7386317592652293,\n",
       " 0.8155014981860814,\n",
       " 0.4666056216830644,\n",
       " 0.27586103120615957,\n",
       " 0.031537401767868345,\n",
       " 0.8982708608054161,\n",
       " 0.4306725059901826,\n",
       " 0.25472744931757607,\n",
       " 0.28165783064207883,\n",
       " 0.589876502672634,\n",
       " 0.7341833355462339,\n",
       " 0.1895005926437784,\n",
       " 0.520887330729854,\n",
       " 0.8807226321099767,\n",
       " 0.693129294472203,\n",
       " 0.9051090335035903,\n",
       " 0.08482361236820402,\n",
       " 0.545856151295677,\n",
       " 0.1448216393377476,\n",
       " 0.7555857786732543,\n",
       " 0.9338765949830629,\n",
       " 0.2118647358896445,\n",
       " 0.2219013553534922,\n",
       " 0.660538620193215,\n",
       " 0.8113083576735927,\n",
       " 0.2998064482563907,\n",
       " 0.06976876427827194,\n",
       " 0.8798041464883035,\n",
       " 0.7167267003357323,\n",
       " 0.7905248242582411,\n",
       " 0.4050538280577165,\n",
       " 0.643065120546995,\n",
       " 0.01708394183711115,\n",
       " 0.601628578235498,\n",
       " 0.3873209397446624,\n",
       " 0.22224562724136465,\n",
       " 0.3749806448750186,\n",
       " 0.8717138583275571,\n",
       " 0.7629676481885556,\n",
       " 0.06618620153652321,\n",
       " 0.7106163451837935,\n",
       " 0.7525113887715218,\n",
       " 0.028476901871378302,\n",
       " 0.24055088026630533,\n",
       " 0.6728203415063935,\n",
       " 0.8237547624453674,\n",
       " 0.8333471274190534,\n",
       " 0.8073909177491642,\n",
       " 0.8230608241040905,\n",
       " 0.8314284962353946,\n",
       " 0.18086469987372333,\n",
       " 0.1927793086326124,\n",
       " 0.1560782059192155,\n",
       " 0.8458949961393811,\n",
       " 0.3446720778298482,\n",
       " 0.07362500186815824,\n",
       " 0.6080090372333473,\n",
       " 0.5130931382973702,\n",
       " 0.6987819686949783,\n",
       " 0.9296705314025111,\n",
       " 0.04849164795207461,\n",
       " 0.5172730211642944,\n",
       " 0.9003027301871912,\n",
       " 0.04803635874341672,\n",
       " 0.30808583702327264,\n",
       " 0.9614469650086157,\n",
       " 0.07960792566222463,\n",
       " 0.6932070897887624,\n",
       " 0.05189675035724195,\n",
       " 0.27899335916445844,\n",
       " 0.5326583706442761,\n",
       " 0.745666394137503,\n",
       " 0.4304593929806506,\n",
       " 0.9039181827393455,\n",
       " 0.9681358787437616]"
      ]
     },
     "execution_count": 164,
     "metadata": {},
     "output_type": "execute_result"
    }
   ],
   "source": [
    "f = [0] * 99\n",
    "\n",
    "for i in range(99):\n",
    "    f[i] = np.random.rand()\n",
    "    \n",
    "f"
   ]
  },
  {
   "cell_type": "code",
   "execution_count": 167,
   "metadata": {},
   "outputs": [
    {
     "data": {
      "text/plain": [
       "array([[ 1.04599992],\n",
       "       [ 1.02262931],\n",
       "       [ 1.29440486],\n",
       "       [ 0.52587017],\n",
       "       [ 2.96265439],\n",
       "       [ 0.72712226],\n",
       "       [ 0.29463392],\n",
       "       [ 0.88012637],\n",
       "       [ 0.81261595],\n",
       "       [ 1.86004028]])"
      ]
     },
     "execution_count": 167,
     "metadata": {},
     "output_type": "execute_result"
    }
   ],
   "source": [
    "np.random.rand(10, 1) * 3"
   ]
  },
  {
   "cell_type": "code",
   "execution_count": null,
   "metadata": {},
   "outputs": [],
   "source": []
  }
 ],
 "metadata": {
  "kernelspec": {
   "display_name": "Python 3",
   "language": "python",
   "name": "python3"
  },
  "language_info": {
   "codemirror_mode": {
    "name": "ipython",
    "version": 3
   },
   "file_extension": ".py",
   "mimetype": "text/x-python",
   "name": "python",
   "nbconvert_exporter": "python",
   "pygments_lexer": "ipython3",
   "version": "3.6.3"
  }
 },
 "nbformat": 4,
 "nbformat_minor": 2
}
