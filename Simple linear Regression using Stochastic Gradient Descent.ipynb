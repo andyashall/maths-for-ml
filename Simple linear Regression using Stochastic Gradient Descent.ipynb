{
 "cells": [
  {
   "cell_type": "code",
   "execution_count": 68,
   "metadata": {},
   "outputs": [],
   "source": [
    "import numpy as np"
   ]
  },
  {
   "cell_type": "code",
   "execution_count": 69,
   "metadata": {},
   "outputs": [],
   "source": [
    "x = 2 * np.random.rand(100, 1)\n",
    "y = 8 + 4 * x + np.random.rand(100, 1)"
   ]
  },
  {
   "cell_type": "code",
   "execution_count": 70,
   "metadata": {},
   "outputs": [
    {
     "data": {
      "text/plain": [
       "<matplotlib.collections.PathCollection at 0x10ea94278>"
      ]
     },
     "execution_count": 70,
     "metadata": {},
     "output_type": "execute_result"
    },
    {
     "data": {
      "image/png": "[encoded data removed]",
      "text/plain": [
       "<matplotlib.figure.Figure at 0x10eb8df98>"
      ]
     },
     "metadata": {},
     "output_type": "display_data"
    }
   ],
   "source": [
    "%matplotlib inline\n",
    "import matplotlib\n",
    "import matplotlib.pyplot as plt\n",
    "\n",
    "plt.scatter(x, y)"
   ]
  },
  {
   "cell_type": "code",
   "execution_count": 121,
   "metadata": {},
   "outputs": [
    {
     "name": "stdout",
     "output_type": "stream",
     "text": [
      "steps: 2400\n",
      "\n",
      "theta: [[ 8.52534517]\n",
      " [ 3.99861112]]\n"
     ]
    }
   ],
   "source": [
    "theta = np.random.rand(2, 1)\n",
    "\n",
    "x_n = np.c_[np.ones(x.shape), x]\n",
    "\n",
    "eta = .1\n",
    "n_epoch = 50\n",
    "\n",
    "diff = np.array([[1],[1]])\n",
    "steps = 0\n",
    "ep = 0\n",
    "for epoch in range(n_epoch):\n",
    "    while (diff[0,0] > 0.001 or diff[0,0] < -0.001) and (diff[1,0] > 0.001 or diff[1,0] < -0.001):\n",
    "        for n in range(len(x_n)):\n",
    "            rand = np.random.randint(0,99)\n",
    "            xi, yi = x_n[rand:rand+1], y[rand:rand+1]\n",
    "            diff = xi.T @ ((xi @ theta) - yi)\n",
    "        #     print(f'theta:           {theta}')\n",
    "        #     print(f'xi.T:            {xi.T}')\n",
    "        #     print(f'xi @ theta:      {xi @ theta}')\n",
    "        #     print(f'xi @ theta - yi: {(xi @ theta) - yi}')\n",
    "            theta = theta - diff * eta\n",
    "            steps +=1\n",
    "    \n",
    "print(f'steps: {steps}\\n')\n",
    "\n",
    "print(f'theta: {theta}')"
   ]
  },
  {
   "cell_type": "code",
   "execution_count": 122,
   "metadata": {},
   "outputs": [
    {
     "data": {
      "image/png": "[encoded data removed]",
      "text/plain": [
       "<matplotlib.figure.Figure at 0x10edea198>"
      ]
     },
     "metadata": {},
     "output_type": "display_data"
    }
   ],
   "source": [
    "t = np.array([[0],[2]])\n",
    "o = np.array([[0]])\n",
    "\n",
    "np.c_[np.ones(t.shape), t] @ theta\n",
    "\n",
    "plt.plot(x, y, \"b.\")\n",
    "plt.plot(t, np.c_[np.ones(t.shape), t] @ theta, \"r-\")\n",
    "plt.show()"
   ]
  },
  {
   "cell_type": "code",
   "execution_count": null,
   "metadata": {},
   "outputs": [],
   "source": []
  }
 ],
 "metadata": {
  "kernelspec": {
   "display_name": "Python 3",
   "language": "python",
   "name": "python3"
  },
  "language_info": {
   "codemirror_mode": {
    "name": "ipython",
    "version": 3
   },
   "file_extension": ".py",
   "mimetype": "text/x-python",
   "name": "python",
   "nbconvert_exporter": "python",
   "pygments_lexer": "ipython3",
   "version": "3.6.3"
  }
 },
 "nbformat": 4,
 "nbformat_minor": 2
}
